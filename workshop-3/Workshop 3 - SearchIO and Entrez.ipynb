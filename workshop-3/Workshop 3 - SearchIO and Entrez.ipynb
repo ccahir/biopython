{
 "cells": [
  {
   "cell_type": "markdown",
   "metadata": {},
   "source": [
    "# Biopython 3: SearchIO and Entrez\n",
    "\n",
    "In this workshop, we will take a quick look at SearchIO, Biopython's tool for unifying results from various sequence search tools, before exploring the Entrez API utility from NCBI.\n",
    "\n",
    "## SearchIO\n",
    "\n",
    "Biopython provides the [SearchIO package](https://biopython.org/docs/latest/api/Bio.SearchIO.html) for dealing with outputs from various sequence searching utilities, allowing them to be compared directly. Similar to SeqIO and AlignIO, it has capabilities for parsing, reading, writing, and indexing different search results, as well as converting between file types. \n",
    "\n",
    "### Reading and Parsing\n",
    "\n",
    "Parsing and reading also work the same way as previously, where parse returns an iterator, and read simply returns the first item in the file. Note here that each item is a query, not an individual sequence. \n",
    "\n",
    "Let's start with an example of reading and XML result file from a BLAST search."
   ]
  },
  {
   "cell_type": "code",
   "execution_count": 2,
   "metadata": {},
   "outputs": [
    {
     "name": "stdout",
     "output_type": "stream",
     "text": [
      "['_NON_STICKY_ATTRS', '_QueryResult__alt_hit_ids', '_QueryResult__marker', '__annotations__', '__bool__', '__class__', '__contains__', '__delattr__', '__delitem__', '__dict__', '__dir__', '__doc__', '__eq__', '__format__', '__ge__', '__getattribute__', '__getitem__', '__getstate__', '__gt__', '__hash__', '__init__', '__init_subclass__', '__iter__', '__le__', '__len__', '__lt__', '__module__', '__ne__', '__new__', '__reduce__', '__reduce_ex__', '__repr__', '__setattr__', '__setitem__', '__sizeof__', '__str__', '__subclasshook__', '__weakref__', '_description', '_hit_key_function', '_id', '_items', '_transfer_attrs', 'absorb', 'append', 'blast_id', 'description', 'fragments', 'hit_filter', 'hit_keys', 'hit_map', 'hits', 'hsp_filter', 'hsp_map', 'hsps', 'id', 'index', 'items', 'iterhit_keys', 'iterhits', 'iteritems', 'param_evalue_threshold', 'param_filter', 'param_gap_extend', 'param_gap_open', 'param_score_match', 'param_score_mismatch', 'pop', 'program', 'reference', 'seq_len', 'sort', 'stat_db_len', 'stat_db_num', 'stat_eff_space', 'stat_entropy', 'stat_hsp_len', 'stat_kappa', 'stat_lambda', 'target', 'version']\n",
      "Search 42291 has 100 hits\n",
      "['_NON_STICKY_ATTRS', '__annotations__', '__bool__', '__class__', '__contains__', '__delattr__', '__delitem__', '__dict__', '__dir__', '__doc__', '__eq__', '__format__', '__ge__', '__getattribute__', '__getitem__', '__getstate__', '__gt__', '__hash__', '__init__', '__init_subclass__', '__iter__', '__le__', '__len__', '__lt__', '__module__', '__ne__', '__new__', '__reduce__', '__reduce_ex__', '__repr__', '__setattr__', '__setitem__', '__sizeof__', '__str__', '__subclasshook__', '__weakref__', '_aln_span_get', '_get_coords', '_hit_end_get', '_hit_inter_ranges_get', '_hit_inter_spans_get', '_hit_range_get', '_hit_span_get', '_hit_start_get', '_inter_ranges_get', '_inter_spans_get', '_items', '_query_end_get', '_query_inter_ranges_get', '_query_inter_spans_get', '_query_range_get', '_query_span_get', '_query_start_get', '_str_hsp_header', '_transfer_attrs', '_validate_fragment', 'aln', 'aln_all', 'aln_annotation', 'aln_annotation_all', 'aln_span', 'bitscore', 'bitscore_raw', 'evalue', 'fragment', 'fragments', 'gap_num', 'hit', 'hit_all', 'hit_description', 'hit_end', 'hit_end_all', 'hit_features', 'hit_features_all', 'hit_frame', 'hit_frame_all', 'hit_id', 'hit_inter_ranges', 'hit_inter_spans', 'hit_range', 'hit_range_all', 'hit_span', 'hit_span_all', 'hit_start', 'hit_start_all', 'hit_strand', 'hit_strand_all', 'ident_num', 'is_fragmented', 'molecule_type', 'output_index', 'pos_num', 'query', 'query_all', 'query_description', 'query_end', 'query_end_all', 'query_features', 'query_features_all', 'query_frame', 'query_frame_all', 'query_id', 'query_inter_ranges', 'query_inter_spans', 'query_range', 'query_range_all', 'query_span', 'query_span_all', 'query_start', 'query_start_all', 'query_strand', 'query_strand_all']\n",
      "gi|262205317|ref|NR_030195.1| 4.91307e-23\n",
      "gi|301171311|ref|NR_035856.1| 1.71483e-22\n",
      "gi|270133242|ref|NR_032573.1| 2.54503e-20\n",
      "gi|301171322|ref|NR_035857.1| 8.88303e-20\n",
      "gi|301171322|ref|NR_035857.1| 3.31332e-06\n",
      "gi|301171267|ref|NR_035851.1| 8.88303e-20\n",
      "gi|262205330|ref|NR_030198.1| 8.88303e-20\n",
      "gi|262205330|ref|NR_030198.1| 3.31332e-06\n",
      "gi|262205302|ref|NR_030191.1| 8.88303e-20\n",
      "gi|301171259|ref|NR_035850.1| 3.10048e-19\n",
      "gi|262205451|ref|NR_030222.1| 3.10048e-19\n",
      "gi|301171447|ref|NR_035871.1| 3.77716e-18\n",
      "gi|301171447|ref|NR_035871.1| 0.000140886\n",
      "gi|301171276|ref|NR_035852.1| 3.77716e-18\n",
      "gi|262205290|ref|NR_030188.1| 3.77716e-18\n",
      "gi|301171354|ref|NR_035860.1| 1.31836e-17\n",
      "gi|262205281|ref|NR_030186.1| 1.31836e-17\n",
      "gi|262205298|ref|NR_030190.1| 4.60152e-17\n",
      "gi|262205298|ref|NR_030190.1| 0.000140886\n",
      "gi|301171394|ref|NR_035865.1| 1.60609e-16\n",
      "gi|262205429|ref|NR_030218.1| 1.60609e-16\n",
      "gi|262205423|ref|NR_030217.1| 1.60609e-16\n",
      "gi|301171401|ref|NR_035866.1| 5.6058e-16\n",
      "gi|270133247|ref|NR_032574.1| 5.6058e-16\n",
      "gi|262205309|ref|NR_030193.1| 5.6058e-16\n",
      "gi|270132717|ref|NR_032716.1| 1.95662e-15\n",
      "gi|270132717|ref|NR_032716.1| 0.00171634\n",
      "gi|301171437|ref|NR_035870.1| 6.82927e-15\n",
      "gi|301171437|ref|NR_035870.1| 0.254728\n",
      "gi|270133306|ref|NR_032587.1| 6.82927e-15\n",
      "gi|270133306|ref|NR_032587.1| 9.49283e-07\n",
      "gi|301171428|ref|NR_035869.1| 2.38365e-14\n",
      "gi|301171428|ref|NR_035869.1| 2.71974e-07\n",
      "gi|301171211|ref|NR_035845.1| 2.38365e-14\n",
      "gi|301171153|ref|NR_035838.1| 2.38365e-14\n",
      "gi|301171153|ref|NR_035838.1| 0.0209094\n",
      "gi|301171146|ref|NR_035837.1| 2.38365e-14\n",
      "gi|301171146|ref|NR_035837.1| 0.0209094\n",
      "gi|270133254|ref|NR_032575.1| 2.38365e-14\n",
      "gi|270133254|ref|NR_032575.1| 3.31332e-06\n",
      "gi|262205445|ref|NR_030221.1| 2.38365e-14\n",
      "gi|262205445|ref|NR_030221.1| 0.0209094\n",
      "gi|262205441|ref|NR_030220.1| 2.38365e-14\n",
      "gi|262205441|ref|NR_030220.1| 0.0209094\n",
      "gi|262205325|ref|NR_030197.1| 2.38365e-14\n",
      "gi|262205325|ref|NR_030197.1| 2.71974e-07\n",
      "gi|262205321|ref|NR_030196.1| 2.38365e-14\n",
      "gi|301171236|ref|NR_035848.1| 8.31975e-14\n",
      "gi|301171236|ref|NR_035848.1| 0.000491741\n",
      "gi|262205383|ref|NR_030209.1| 8.31975e-14\n",
      "gi|262205383|ref|NR_030209.1| 0.000491741\n",
      "gi|301171342|ref|NR_035859.1| 2.90388e-13\n",
      "gi|262205265|ref|NR_030183.1| 2.90388e-13\n",
      "gi|301171247|ref|NR_035849.1| 1.01355e-12\n",
      "gi|301171247|ref|NR_035849.1| 2.71974e-07\n",
      "gi|270133223|ref|NR_032569.1| 1.01355e-12\n",
      "gi|262205313|ref|NR_030194.1| 1.01355e-12\n",
      "gi|262205313|ref|NR_030194.1| 2.71974e-07\n",
      "gi|301171225|ref|NR_035847.1| 3.53765e-12\n",
      "gi|301171225|ref|NR_035847.1| 0.000491741\n",
      "gi|270133232|ref|NR_032571.1| 3.53765e-12\n",
      "gi|262205392|ref|NR_030211.1| 3.53765e-12\n",
      "gi|262205392|ref|NR_030211.1| 0.000491741\n",
      "gi|301171300|ref|NR_035855.1| 1.23476e-11\n",
      "gi|301171161|ref|NR_035839.1| 1.23476e-11\n",
      "gi|301171161|ref|NR_035839.1| 0.0729808\n",
      "gi|270133259|ref|NR_032576.1| 1.23476e-11\n",
      "gi|270133259|ref|NR_032576.1| 0.00171634\n",
      "gi|270133218|ref|NR_032568.1| 1.23476e-11\n",
      "gi|270133218|ref|NR_032568.1| 0.00171634\n",
      "gi|270132725|ref|NR_032718.1| 1.23476e-11\n",
      "gi|270132725|ref|NR_032718.1| 0.0729808\n",
      "gi|262205396|ref|NR_030212.1| 1.23476e-11\n",
      "gi|262205396|ref|NR_030212.1| 0.0729808\n",
      "gi|262205294|ref|NR_030189.1| 1.23476e-11\n",
      "gi|301171602|ref|NR_035634.1| 4.30974e-11\n",
      "gi|301171602|ref|NR_035634.1| 0.00599063\n",
      "gi|301171454|ref|NR_035872.1| 4.30974e-11\n",
      "gi|301171333|ref|NR_035858.1| 4.30974e-11\n",
      "gi|301171291|ref|NR_035854.1| 4.30974e-11\n",
      "gi|301171219|ref|NR_035846.1| 4.30974e-11\n",
      "gi|301171219|ref|NR_035846.1| 0.00599063\n",
      "gi|269847477|ref|NR_031696.1| 4.30974e-11\n",
      "gi|262205435|ref|NR_030219.1| 4.30974e-11\n",
      "gi|262205336|ref|NR_030199.1| 4.30974e-11\n",
      "gi|262205336|ref|NR_030199.1| 0.00599063\n",
      "gi|270133264|ref|NR_032577.1| 1.50425e-10\n",
      "gi|269846946|ref|NR_031573.1| 1.50425e-10\n",
      "gi|269846946|ref|NR_031573.1| 0.0209094\n",
      "gi|262205358|ref|NR_030204.1| 1.50425e-10\n",
      "gi|301171206|ref|NR_035844.1| 5.25034e-10\n",
      "gi|301171206|ref|NR_035844.1| 0.00599063\n",
      "gi|301171169|ref|NR_035840.1| 5.25034e-10\n",
      "gi|262205387|ref|NR_030210.1| 5.25034e-10\n",
      "gi|262205387|ref|NR_030210.1| 0.00599063\n",
      "gi|301171381|ref|NR_035863.1| 1.83255e-09\n",
      "gi|270133201|ref|NR_032565.1| 1.83255e-09\n",
      "gi|262205417|ref|NR_030216.1| 1.83255e-09\n",
      "gi|270133214|ref|NR_032567.1| 6.39622e-09\n",
      "gi|262205407|ref|NR_030214.1| 6.39622e-09\n",
      "gi|262205377|ref|NR_030208.1| 6.39622e-09\n",
      "gi|270133311|ref|NR_032588.1| 2.2325e-08\n",
      "gi|270133311|ref|NR_032588.1| 0.0729808\n",
      "gi|270133297|ref|NR_032585.1| 2.2325e-08\n",
      "gi|262205401|ref|NR_030213.1| 2.2325e-08\n",
      "gi|262205401|ref|NR_030213.1| 0.00599063\n",
      "gi|301171372|ref|NR_035862.1| 7.79219e-08\n",
      "gi|301171372|ref|NR_035862.1| 0.00171634\n",
      "gi|262205412|ref|NR_030215.1| 7.79219e-08\n",
      "gi|262205412|ref|NR_030215.1| 0.00171634\n",
      "gi|262205366|ref|NR_030206.1| 7.79219e-08\n",
      "gi|262205366|ref|NR_030206.1| 0.00171634\n",
      "gi|270132721|ref|NR_032717.1| 2.71974e-07\n",
      "gi|270132721|ref|NR_032717.1| 0.889088\n",
      "gi|262205276|ref|NR_030185.1| 9.49283e-07\n",
      "gi|301171363|ref|NR_035861.1| 3.31332e-06\n",
      "gi|270133196|ref|NR_032564.1| 3.31332e-06\n",
      "gi|270133191|ref|NR_032563.1| 3.31332e-06\n",
      "gi|301171387|ref|NR_035864.1| 1.15646e-05\n",
      "gi|262205353|ref|NR_030203.1| 1.15646e-05\n",
      "gi|270133237|ref|NR_032572.1| 0.000140886\n",
      "gi|301171283|ref|NR_035853.1| 0.00171634\n",
      "gi|270133288|ref|NR_032583.1| 0.00171634\n",
      "gi|262205371|ref|NR_030207.1| 0.00171634\n",
      "gi|262205349|ref|NR_030202.1| 0.00171634\n",
      "gi|301171138|ref|NR_035836.1| 0.254728\n",
      "gi|301171409|ref|NR_035867.1| 0.254728\n",
      "gi|301173375|ref|NR_035835.1| 0.254728\n",
      "gi|262205340|ref|NR_030200.1| 0.254728\n",
      "gi|262205285|ref|NR_030187.1| 0.254728\n",
      "gi|262205270|ref|NR_030184.1| 0.254728\n",
      "gi|390332045|ref|XM_776818.2| 0.889088\n",
      "gi|390332043|ref|XM_003723358.1| 0.889088\n",
      "gi|356543101|ref|XM_003539954.1| 0.889088\n",
      "gi|356517317|ref|XM_003527287.1| 0.889088\n",
      "gi|297814701|ref|XM_002875188.1| 0.889088\n",
      "gi|397513516|ref|XM_003827011.1| 3.10322\n"
     ]
    }
   ],
   "source": [
    "# Parse a BLAST XML file\n",
    "\n",
    "from Bio import SearchIO\n",
    "\n",
    "handle = \"searchio-data/blast.xml\"\n",
    "\n",
    "my_result = SearchIO.read(handle = handle, format = \"blast-xml\")\n",
    "print(dir(my_result))\n",
    "\n",
    "print(\"Search {} has {} hits\".format(my_result.id, len(my_result)))\n",
    "\n",
    "print(dir(my_result.hsps[0]))\n",
    "\n",
    "for hsp in my_result.hsps:\n",
    "    print(hsp.hit_id, hsp.evalue) "
   ]
  },
  {
   "cell_type": "markdown",
   "metadata": {},
   "source": [
    "### Writing and Format Conversion\n",
    "\n",
    "You can also write results files in various file formats. To do this, use the `Bio.SearchIO.write()` function. In the example below, we parse a file in the blast-xml format, and then write its contents to a new file in blast-tab tabular format. \n",
    "\n",
    "```\n",
    "from Bio import SearchIO\n",
    "qresults = SearchIO.parse(handle = 'sample.xml', format = 'blast-xml')\n",
    "SearchIO.write(qresults, handle = 'sample.tab', format = 'blast-tab')\n",
    "```\n",
    "\n",
    "You can also use the `convert()` function to directly convert between file formats without reading/parsing and then writing. The supported formats are below, although not all of the pairs will work for conversion (see [documentation](https://biopython.org/docs/latest/api/Bio.SearchIO.html#Bio.SearchIO.convert) for details).\n",
    "\n",
    "'blast-tab', 'blast-xml', 'blat-psl', 'hmmer3-tab', 'hmmscan3-domtab', 'hmmsearch3-domtab', 'phmmer3-domtab\"\n",
    "\n",
    "The function will return a tuple of four values: the number of QueryResult, Hit, HSP, and HSPFragment objects it writes to the output file."
   ]
  },
  {
   "cell_type": "code",
   "execution_count": null,
   "metadata": {},
   "outputs": [],
   "source": [
    "in_file = \"searchio-data/blast.xml\"\n",
    "out_file = \"searchio-data/blast_tab.tab\"\n",
    "\n",
    "in_format = \"blast-xml\"\n",
    "out_format = \"blast-tab\"\n",
    "\n",
    "SearchIO.convert(in_file=in_file, in_format=in_format, out_file=out_file, out_format=out_format)"
   ]
  },
  {
   "cell_type": "markdown",
   "metadata": {},
   "source": [
    "## Entrez\n",
    "\n",
    "The Entrez system is a collection of [NCBI databases](https://www.ncbi.nlm.nih.gov/guide/all/) ranging from literature to sequences, along with a text search tool for exploring them. You can [search online](https://www.ncbi.nlm.nih.gov/search/) via browser, or through the NCBI's E-utilities API. \n",
    "\n",
    "### Entrez Rules and Etiquette\n",
    "\n",
    "### UIDs\n",
    "\n",
    "Every entry in a NCBI database has a UID (unique identifier). This UID will vary depending on the database. For example, PubMed uses PMID while protein records use GI numbers. \n",
    "\n",
    "| Entrez Database    | UID common name | E-utility Database Name |\n",
    "|--------------------|-----------------|-------------------------|\n",
    "| BioProject         | BioProject ID  | bioproject              |\n",
    "| BioSample          | BioSample ID   | biosample               |\n",
    "| Books              | Book ID        | books                   |\n",
    "| Conserved Domains  | PSSM-ID        | cdd                     |\n",
    "| dbGaP              | dbGaP ID       | gap                     |\n",
    "| dbVar              | dbVar ID       | dbvar                   |\n",
    "| Gene               | Gene ID        | gene                    |\n",
    "| Genome             | Genome ID      | genome                  |\n",
    "| GEO Datasets       | GDS ID         | gds                     |\n",
    "| GEO Profiles       | GEO ID         | geoprofiles             |\n",
    "| HomoloGene         | HomoloGene ID  | homologene              |\n",
    "| MeSH               | MeSH ID        | mesh                    |\n",
    "| NCBI C++ Toolkit   | Toolkit ID     | toolkit                 |\n",
    "| NLM Catalog        | NLM Catalog ID | nlmcatalog              |\n",
    "| Nucleotide         | GI number      | nuccore                 |\n",
    "| PopSet             | PopSet ID      | popset                  |\n",
    "| Probe              | Probe ID       | probe                   |\n",
    "| Protein            | GI number      | protein                 |\n",
    "| Protein Clusters   | Protein Cluster ID | proteinclusters      |\n",
    "| PubChem BioAssay   | AID            | pcassay                 |\n",
    "| PubChem Compound   | CID            | pccompound              |\n",
    "| PubChem Substance  | SID            | pcsubstance             |\n",
    "| PubMed             | PMID           | pubmed                  |\n",
    "| PubMed Central     | PMCID          | pmc                     |\n",
    "| SNP                | rs number      | snp                     |\n",
    "| SRA                | SRA ID         | sra                     |\n",
    "| Structure          | MMDB-ID        | structure               |\n",
    "| Taxonomy           | TaxID          | taxonomy                |\n",
    "\n",
    "**Accession.Version vs GI Number**\n",
    "\n",
    "Sequences will have two parallel identifiers given by the NCBI: the GI number and the Accession version. For a full disambiguation, see this [link](https://www.ncbi.nlm.nih.gov/genbank/sequenceids/). \n",
    "\n",
    "### E-Utilities on the Unix Command Line\n",
    "\n",
    "While Biopython gives us nice tools for using the E-utilities withi Python code, they are also available as [command line tools](https://www.ncbi.nlm.nih.gov/books/NBK179288/)\n",
    "\n",
    "### Core Concepts of the E-utilities\n",
    "\n",
    "**What are the E-utilities?**\n",
    "\n",
    "There are nine total E-utilities which perform different tasks with respect to the NCBI databases (from [A General Introduction to the E-utilities](https://www.ncbi.nlm.nih.gov/books/NBK25497/)).\n",
    "\n",
    "1. EInfo (database statistics) eutils.ncbi.nlm.nih.gov/entrez/eutils/einfo.fcgi\n",
    "\n",
    "    Provides the number of records indexed in each field of a given database, the date of the last update of the database, and the available links from the database to other Entrez databases.\n",
    "\n",
    "2. ESearch (text searches) eutils.ncbi.nlm.nih.gov/entrez/eutils/esearch.fcgi\n",
    "\n",
    "    Responds to a text query with the list of matching UIDs in a given database (for later use in ESummary, EFetch or ELink), along with the term translations of the query.\n",
    "\n",
    "3. EPost (UID uploads) eutils.ncbi.nlm.nih.gov/entrez/eutils/epost.fcgi\n",
    "\n",
    "    Accepts a list of UIDs from a given database, stores the set on the History Server, and responds with a query key and web environment for the uploaded dataset.\n",
    "\n",
    "4. ESummary (document summary downloads) eutils.ncbi.nlm.nih.gov/entrez/eutils/esummary.fcgi\n",
    "\n",
    "    Responds to a list of UIDs from a given database with the corresponding document summaries.\n",
    "\n",
    "5. EFetch (data record downloads) eutils.ncbi.nlm.nih.gov/entrez/eutils/efetch.fcgi\n",
    "\n",
    "    Responds to a list of UIDs in a given database with the corresponding data records in a specified format.\n",
    "\n",
    "6. ELink (Entrez links) eutils.ncbi.nlm.nih.gov/entrez/eutils/elink.fcgi\n",
    "\n",
    "    Responds to a list of UIDs in a given database with either a list of related UIDs (and relevancy scores) in the same database or a list of linked UIDs in another Entrez database; checks for the existence of a specified link from a list of one or more UIDs; creates a hyperlink to the primary LinkOut provider for a specific UID and database, or lists LinkOut URLs and attributes for multiple UIDs.\n",
    "\n",
    "7. EGQuery (global query) eutils.ncbi.nlm.nih.gov/entrez/eutils/egquery.fcgi\n",
    "\n",
    "    Responds to a text query with the number of records matching the query in each Entrez database.\n",
    "\n",
    "8. ESpell (spelling suggestions) eutils.ncbi.nlm.nih.gov/entrez/eutils/espell.fcgi\n",
    "\n",
    "    Retrieves spelling suggestions for a text query in a given database.\n",
    "\n",
    "9. ECitMatch (batch citation searching in PubMed) eutils.ncbi.nlm.nih.gov/entrez/eutils/ecitmatch.cgi\n",
    "\n",
    "    Retrieves PubMed IDs (PMIDs) corresponding to a set of input citation strings.\n",
    "\n",
    "## Bio.Entrez Module\n",
    "\n",
    "Biopython gives us a module that allows us to perform these functions inside of a Python script. What it essentially does is to take our arguments, generate the Entrez E-utility URL, send to the NCBI server, and deal with the returned information. The documentation can be found [here](https://biopython.org/docs/latest/api/Bio.Entrez.html). As well as the 9 core functions, the module provides functions for reading and parsing the results.\n",
    "\n",
    "### An Example with EInfo\n",
    "\n",
    "Here we will use the first function, EInfo, to get information on some NCBI databases. The basic routine is as follows:\n",
    "\n",
    "0. Give Entrez your email address.\n",
    "1. Define your handle as the output of the `Entrez.einfo()` function.\n",
    "2. Create a record by \"reading\" the handle using the `Entrez.read()` function. This record will be a nest of Python dictionaries - explore the list by looking at the keys.\n",
    "3. Extract the information you need by calling the specific keys as needed.\n",
    "\n",
    "When given no arguments, `einfo()` returns a list of all valid Entrez databases. You can also specify a database by giving it a `db` (database) variable. Then, it will return the information related to that specific database. There are a couple of other inputs for specifying the output format (JSON is available as well as the default XML) and a version input (which is for the very interested user only - check the documentation for details).\n",
    "\n",
    "First, let's get all of the database information."
   ]
  },
  {
   "cell_type": "code",
   "execution_count": 1,
   "metadata": {},
   "outputs": [
    {
     "name": "stdout",
     "output_type": "stream",
     "text": [
      "dict_keys(['DbList'])\n",
      "{'DbList': ['pubmed', 'protein', 'nuccore', 'ipg', 'nucleotide', 'structure', 'genome', 'annotinfo', 'assembly', 'bioproject', 'biosample', 'blastdbinfo', 'books', 'cdd', 'clinvar', 'gap', 'gapplus', 'grasp', 'dbvar', 'gene', 'gds', 'geoprofiles', 'medgen', 'mesh', 'nlmcatalog', 'omim', 'orgtrack', 'pmc', 'popset', 'proteinclusters', 'pcassay', 'protfam', 'pccompound', 'pcsubstance', 'seqannot', 'snp', 'sra', 'taxonomy', 'biocollections', 'gtr']}\n",
      "40\n"
     ]
    }
   ],
   "source": [
    "from Bio import Entrez\n",
    "\n",
    "Entrez.email = \"cwarner@rockefeller.edu\"\n",
    "handle = Entrez.einfo() # Get handle with information\n",
    "record = Entrez.read(handle) # Use the Bio parser to turn it into a Python object (dictionary)\n",
    "print(record.keys())\n",
    "print(record)\n",
    "print(len(record['DbList']))\n",
    "\n"
   ]
  },
  {
   "cell_type": "markdown",
   "metadata": {},
   "source": [
    "Next, we can find out more information about the SRA (Sequence Read Archive) database."
   ]
  },
  {
   "cell_type": "code",
   "execution_count": 15,
   "metadata": {},
   "outputs": [
    {
     "name": "stdout",
     "output_type": "stream",
     "text": [
      "dict_keys(['DbInfo'])\n",
      "{'DbName': 'gap', 'MenuName': 'dbGaP', 'Description': 'dbGaP Data', 'DbBuild': 'Build230522-0335m.1', 'Count': '363717', 'LastUpdate': '2023/05/22 04:11', 'FieldList': [{'Name': 'ALL', 'FullName': 'All Fields', 'Description': 'All terms from all searchable fields', 'TermCount': '2183077', 'IsDate': 'N', 'IsNumerical': 'N', 'SingleToken': 'N', 'Hierarchy': 'N', 'IsHidden': 'N'}, {'Name': 'UID', 'FullName': 'UID', 'Description': 'Unique number assigned to publication', 'TermCount': '0', 'IsDate': 'N', 'IsNumerical': 'Y', 'SingleToken': 'Y', 'Hierarchy': 'N', 'IsHidden': 'Y'}, {'Name': 'FILT', 'FullName': 'Filter', 'Description': 'Limits the records', 'TermCount': '23', 'IsDate': 'N', 'IsNumerical': 'N', 'SingleToken': 'Y', 'Hierarchy': 'N', 'IsHidden': 'N'}, {'Name': 'DISC', 'FullName': 'Discriminator', 'Description': 'Discriminator', 'TermCount': '10', 'IsDate': 'N', 'IsNumerical': 'N', 'SingleToken': 'Y', 'Hierarchy': 'N', 'IsHidden': 'N'}, {'Name': 'ANCE', 'FullName': 'Ancestor', 'Description': 'Ancestor', 'TermCount': '2839', 'IsDate': 'N', 'IsNumerical': 'N', 'SingleToken': 'Y', 'Hierarchy': 'N', 'IsHidden': 'N'}, {'Name': 'BELO', 'FullName': 'Belongs To', 'Description': 'Belongs To', 'TermCount': '2836', 'IsDate': 'N', 'IsNumerical': 'N', 'SingleToken': 'Y', 'Hierarchy': 'N', 'IsHidden': 'N'}, {'Name': 'ATTR', 'FullName': 'Attribution', 'Description': 'Attribution', 'TermCount': '16170', 'IsDate': 'N', 'IsNumerical': 'N', 'SingleToken': 'Y', 'Hierarchy': 'N', 'IsHidden': 'N'}, {'Name': 'RTST', 'FullName': 'Is Root Study', 'Description': 'Is Root Study', 'TermCount': '7', 'IsDate': 'N', 'IsNumerical': 'N', 'SingleToken': 'Y', 'Hierarchy': 'N', 'IsHidden': 'N'}, {'Name': 'TLST', 'FullName': 'Is Top-Level Study', 'Description': 'Is Top-Level Study', 'TermCount': '7', 'IsDate': 'N', 'IsNumerical': 'N', 'SingleToken': 'Y', 'Hierarchy': 'N', 'IsHidden': 'N'}, {'Name': 'STID', 'FullName': 'Study ID', 'Description': 'Study ID', 'TermCount': '2836', 'IsDate': 'N', 'IsNumerical': 'N', 'SingleToken': 'Y', 'Hierarchy': 'N', 'IsHidden': 'N'}, {'Name': 'STNM', 'FullName': 'Study Name', 'Description': 'Study Name', 'TermCount': '6491', 'IsDate': 'N', 'IsNumerical': 'N', 'SingleToken': 'Y', 'Hierarchy': 'N', 'IsHidden': 'N'}, {'Name': 'DIS', 'FullName': 'Disease', 'Description': 'Disease', 'TermCount': '2646', 'IsDate': 'N', 'IsNumerical': 'N', 'SingleToken': 'Y', 'Hierarchy': 'N', 'IsHidden': 'N'}, {'Name': 'PROJ', 'FullName': 'Project', 'Description': 'Project', 'TermCount': '477', 'IsDate': 'N', 'IsNumerical': 'N', 'SingleToken': 'Y', 'Hierarchy': 'N', 'IsHidden': 'N'}, {'Name': 'GENO', 'FullName': 'Genotype Platform', 'Description': 'Genotype Platform', 'TermCount': '1423', 'IsDate': 'N', 'IsNumerical': 'N', 'SingleToken': 'Y', 'Hierarchy': 'N', 'IsHidden': 'N'}, {'Name': 'SRA', 'FullName': 'Study Has SRA Components', 'Description': 'Study Has SRA components', 'TermCount': '4', 'IsDate': 'N', 'IsNumerical': 'N', 'SingleToken': 'Y', 'Hierarchy': 'N', 'IsHidden': 'N'}, {'Name': 'STUD', 'FullName': 'Study', 'Description': 'Study', 'TermCount': '85745', 'IsDate': 'N', 'IsNumerical': 'N', 'SingleToken': 'Y', 'Hierarchy': 'N', 'IsHidden': 'N'}, {'Name': 'HASV', 'FullName': 'Has Variable', 'Description': 'Has Variable', 'TermCount': '4', 'IsDate': 'N', 'IsNumerical': 'N', 'SingleToken': 'Y', 'Hierarchy': 'N', 'IsHidden': 'N'}, {'Name': 'VRID', 'FullName': 'Variable ID', 'Description': 'Variable ID', 'TermCount': '680333', 'IsDate': 'N', 'IsNumerical': 'N', 'SingleToken': 'Y', 'Hierarchy': 'N', 'IsHidden': 'N'}, {'Name': 'VRNM', 'FullName': 'Variable Name', 'Description': 'Variable Name', 'TermCount': '223739', 'IsDate': 'N', 'IsNumerical': 'N', 'SingleToken': 'Y', 'Hierarchy': 'N', 'IsHidden': 'N'}, {'Name': 'VRDS', 'FullName': 'Variable Description', 'Description': 'Variable Description', 'TermCount': '163304', 'IsDate': 'N', 'IsNumerical': 'N', 'SingleToken': 'Y', 'Hierarchy': 'N', 'IsHidden': 'N'}, {'Name': 'VAR', 'FullName': 'Variable', 'Description': 'Variable', 'TermCount': '1494355', 'IsDate': 'N', 'IsNumerical': 'N', 'SingleToken': 'Y', 'Hierarchy': 'N', 'IsHidden': 'N'}, {'Name': 'HASD', 'FullName': 'Has Document', 'Description': 'Has Document', 'TermCount': '4', 'IsDate': 'N', 'IsNumerical': 'N', 'SingleToken': 'Y', 'Hierarchy': 'N', 'IsHidden': 'N'}, {'Name': 'DCID', 'FullName': 'Document ID', 'Description': 'Document ID', 'TermCount': '13281', 'IsDate': 'N', 'IsNumerical': 'N', 'SingleToken': 'Y', 'Hierarchy': 'N', 'IsHidden': 'N'}, {'Name': 'DCNM', 'FullName': 'Document Name', 'Description': 'Document Name', 'TermCount': '10738', 'IsDate': 'N', 'IsNumerical': 'N', 'SingleToken': 'Y', 'Hierarchy': 'N', 'IsHidden': 'N'}, {'Name': 'DOC', 'FullName': 'Document', 'Description': 'Document', 'TermCount': '764966', 'IsDate': 'N', 'IsNumerical': 'N', 'SingleToken': 'Y', 'Hierarchy': 'N', 'IsHidden': 'N'}, {'Name': 'DOCP', 'FullName': 'Document Part', 'Description': 'Document Part', 'TermCount': '123556', 'IsDate': 'N', 'IsNumerical': 'N', 'SingleToken': 'Y', 'Hierarchy': 'N', 'IsHidden': 'N'}, {'Name': 'HASA', 'FullName': 'Has Analysis', 'Description': 'Has Analysis', 'TermCount': '4', 'IsDate': 'N', 'IsNumerical': 'N', 'SingleToken': 'Y', 'Hierarchy': 'N', 'IsHidden': 'N'}, {'Name': 'ANID', 'FullName': 'Analysis ID', 'Description': 'Analysis ID', 'TermCount': '8952', 'IsDate': 'N', 'IsNumerical': 'N', 'SingleToken': 'Y', 'Hierarchy': 'N', 'IsHidden': 'N'}, {'Name': 'ANNM', 'FullName': 'Analysis Name', 'Description': 'Analysis Name', 'TermCount': '4093', 'IsDate': 'N', 'IsNumerical': 'N', 'SingleToken': 'Y', 'Hierarchy': 'N', 'IsHidden': 'N'}, {'Name': 'ANLS', 'FullName': 'Analysis', 'Description': 'Analysis', 'TermCount': '26721', 'IsDate': 'N', 'IsNumerical': 'N', 'SingleToken': 'Y', 'Hierarchy': 'N', 'IsHidden': 'N'}, {'Name': 'HAST', 'FullName': 'Has Dataset', 'Description': 'Has Dataset', 'TermCount': '4', 'IsDate': 'N', 'IsNumerical': 'N', 'SingleToken': 'Y', 'Hierarchy': 'N', 'IsHidden': 'N'}, {'Name': 'DSID', 'FullName': 'Dataset ID', 'Description': 'Dataset ID', 'TermCount': '23964', 'IsDate': 'N', 'IsNumerical': 'N', 'SingleToken': 'Y', 'Hierarchy': 'N', 'IsHidden': 'N'}, {'Name': 'DSNM', 'FullName': 'Dataset Name', 'Description': 'Dataset Name', 'TermCount': '11508', 'IsDate': 'N', 'IsNumerical': 'N', 'SingleToken': 'Y', 'Hierarchy': 'N', 'IsHidden': 'N'}, {'Name': 'DS', 'FullName': 'Dataset', 'Description': 'Dataset', 'TermCount': '65928', 'IsDate': 'N', 'IsNumerical': 'N', 'SingleToken': 'Y', 'Hierarchy': 'N', 'IsHidden': 'N'}, {'Name': 'PX', 'FullName': 'PhenX', 'Description': 'PhenX', 'TermCount': '3637', 'IsDate': 'N', 'IsNumerical': 'N', 'SingleToken': 'Y', 'Hierarchy': 'N', 'IsHidden': 'N'}, {'Name': 'HASP', 'FullName': 'Has PhenX Mapping', 'Description': 'Has PhenX Mapping', 'TermCount': '3', 'IsDate': 'N', 'IsNumerical': 'N', 'SingleToken': 'Y', 'Hierarchy': 'N', 'IsHidden': 'N'}, {'Name': 'ARCH', 'FullName': 'Study Archive', 'Description': 'Study Archive', 'TermCount': '1', 'IsDate': 'N', 'IsNumerical': 'N', 'SingleToken': 'Y', 'Hierarchy': 'N', 'IsHidden': 'N'}, {'Name': 'MOLE', 'FullName': 'Molecular Data Type', 'Description': 'Molecular Data Type', 'TermCount': '79', 'IsDate': 'N', 'IsNumerical': 'N', 'SingleToken': 'Y', 'Hierarchy': 'N', 'IsHidden': 'N'}, {'Name': 'PRPH', 'FullName': 'Primary Phenotype in Study', 'Description': 'Primary Phenotype in Study', 'TermCount': '585', 'IsDate': 'N', 'IsNumerical': 'N', 'SingleToken': 'Y', 'Hierarchy': 'N', 'IsHidden': 'N'}, {'Name': 'DAC', 'FullName': 'Data Access Committee', 'Description': 'Data Access Committee', 'TermCount': '22', 'IsDate': 'N', 'IsNumerical': 'N', 'SingleToken': 'Y', 'Hierarchy': 'N', 'IsHidden': 'N'}, {'Name': 'DESN', 'FullName': 'Study Design', 'Description': 'Study Design', 'TermCount': '15', 'IsDate': 'N', 'IsNumerical': 'N', 'SingleToken': 'Y', 'Hierarchy': 'N', 'IsHidden': 'N'}, {'Name': 'CDER', 'FullName': 'Common Data Element Resource', 'Description': 'Common Data Element Resource (e.g. LOINC, PhenX)', 'TermCount': '3', 'IsDate': 'N', 'IsNumerical': 'N', 'SingleToken': 'Y', 'Hierarchy': 'N', 'IsHidden': 'N'}, {'Name': 'CDET', 'FullName': 'Common Data Element Term', 'Description': 'Common Data Element Term (e.g. PhenX accession)', 'TermCount': '2074', 'IsDate': 'N', 'IsNumerical': 'N', 'SingleToken': 'Y', 'Hierarchy': 'N', 'IsHidden': 'N'}], 'LinkList': [{'Name': 'gap_bioproject', 'Menu': 'BioProject Links', 'Description': 'BioProject Links', 'DbTo': 'bioproject'}, {'Name': 'gap_biosample_all', 'Menu': 'BioSample Links', 'Description': 'All related BioSamples', 'DbTo': 'biosample'}, {'Name': 'gap_dbvar', 'Menu': 'dbVar', 'Description': 'Link from dbGaP to dbVar', 'DbTo': 'dbvar'}, {'Name': 'gap_gds', 'Menu': 'GEO DataSets', 'Description': 'GEO DataSet links', 'DbTo': 'gds'}, {'Name': 'gap_gene', 'Menu': 'Gene Links', 'Description': 'Gene Links', 'DbTo': 'gene'}, {'Name': 'gap_medgen', 'Menu': 'MedGen', 'Description': 'MedGen Links', 'DbTo': 'medgen'}, {'Name': 'gap_mesh', 'Menu': 'MeSH', 'Description': 'MeSH links', 'DbTo': 'mesh'}, {'Name': 'gap_pmc', 'Menu': 'PMC Links', 'Description': 'PMC Links', 'DbTo': 'pmc'}, {'Name': 'gap_pubmed', 'Menu': 'PubMed Links', 'Description': 'Related PubMed article', 'DbTo': 'pubmed'}, {'Name': 'gap_snp', 'Menu': 'SNP Links', 'Description': 'SNP Links', 'DbTo': 'snp'}, {'Name': 'gap_sra_all', 'Menu': 'SRA Links', 'Description': 'All related SRA records', 'DbTo': 'sra'}]}\n",
      "[{'Name': 'ALL', 'FullName': 'All Fields', 'Description': 'All terms from all searchable fields', 'TermCount': '2183077', 'IsDate': 'N', 'IsNumerical': 'N', 'SingleToken': 'N', 'Hierarchy': 'N', 'IsHidden': 'N'}, {'Name': 'UID', 'FullName': 'UID', 'Description': 'Unique number assigned to publication', 'TermCount': '0', 'IsDate': 'N', 'IsNumerical': 'Y', 'SingleToken': 'Y', 'Hierarchy': 'N', 'IsHidden': 'Y'}, {'Name': 'FILT', 'FullName': 'Filter', 'Description': 'Limits the records', 'TermCount': '23', 'IsDate': 'N', 'IsNumerical': 'N', 'SingleToken': 'Y', 'Hierarchy': 'N', 'IsHidden': 'N'}, {'Name': 'DISC', 'FullName': 'Discriminator', 'Description': 'Discriminator', 'TermCount': '10', 'IsDate': 'N', 'IsNumerical': 'N', 'SingleToken': 'Y', 'Hierarchy': 'N', 'IsHidden': 'N'}, {'Name': 'ANCE', 'FullName': 'Ancestor', 'Description': 'Ancestor', 'TermCount': '2839', 'IsDate': 'N', 'IsNumerical': 'N', 'SingleToken': 'Y', 'Hierarchy': 'N', 'IsHidden': 'N'}, {'Name': 'BELO', 'FullName': 'Belongs To', 'Description': 'Belongs To', 'TermCount': '2836', 'IsDate': 'N', 'IsNumerical': 'N', 'SingleToken': 'Y', 'Hierarchy': 'N', 'IsHidden': 'N'}, {'Name': 'ATTR', 'FullName': 'Attribution', 'Description': 'Attribution', 'TermCount': '16170', 'IsDate': 'N', 'IsNumerical': 'N', 'SingleToken': 'Y', 'Hierarchy': 'N', 'IsHidden': 'N'}, {'Name': 'RTST', 'FullName': 'Is Root Study', 'Description': 'Is Root Study', 'TermCount': '7', 'IsDate': 'N', 'IsNumerical': 'N', 'SingleToken': 'Y', 'Hierarchy': 'N', 'IsHidden': 'N'}, {'Name': 'TLST', 'FullName': 'Is Top-Level Study', 'Description': 'Is Top-Level Study', 'TermCount': '7', 'IsDate': 'N', 'IsNumerical': 'N', 'SingleToken': 'Y', 'Hierarchy': 'N', 'IsHidden': 'N'}, {'Name': 'STID', 'FullName': 'Study ID', 'Description': 'Study ID', 'TermCount': '2836', 'IsDate': 'N', 'IsNumerical': 'N', 'SingleToken': 'Y', 'Hierarchy': 'N', 'IsHidden': 'N'}, {'Name': 'STNM', 'FullName': 'Study Name', 'Description': 'Study Name', 'TermCount': '6491', 'IsDate': 'N', 'IsNumerical': 'N', 'SingleToken': 'Y', 'Hierarchy': 'N', 'IsHidden': 'N'}, {'Name': 'DIS', 'FullName': 'Disease', 'Description': 'Disease', 'TermCount': '2646', 'IsDate': 'N', 'IsNumerical': 'N', 'SingleToken': 'Y', 'Hierarchy': 'N', 'IsHidden': 'N'}, {'Name': 'PROJ', 'FullName': 'Project', 'Description': 'Project', 'TermCount': '477', 'IsDate': 'N', 'IsNumerical': 'N', 'SingleToken': 'Y', 'Hierarchy': 'N', 'IsHidden': 'N'}, {'Name': 'GENO', 'FullName': 'Genotype Platform', 'Description': 'Genotype Platform', 'TermCount': '1423', 'IsDate': 'N', 'IsNumerical': 'N', 'SingleToken': 'Y', 'Hierarchy': 'N', 'IsHidden': 'N'}, {'Name': 'SRA', 'FullName': 'Study Has SRA Components', 'Description': 'Study Has SRA components', 'TermCount': '4', 'IsDate': 'N', 'IsNumerical': 'N', 'SingleToken': 'Y', 'Hierarchy': 'N', 'IsHidden': 'N'}, {'Name': 'STUD', 'FullName': 'Study', 'Description': 'Study', 'TermCount': '85745', 'IsDate': 'N', 'IsNumerical': 'N', 'SingleToken': 'Y', 'Hierarchy': 'N', 'IsHidden': 'N'}, {'Name': 'HASV', 'FullName': 'Has Variable', 'Description': 'Has Variable', 'TermCount': '4', 'IsDate': 'N', 'IsNumerical': 'N', 'SingleToken': 'Y', 'Hierarchy': 'N', 'IsHidden': 'N'}, {'Name': 'VRID', 'FullName': 'Variable ID', 'Description': 'Variable ID', 'TermCount': '680333', 'IsDate': 'N', 'IsNumerical': 'N', 'SingleToken': 'Y', 'Hierarchy': 'N', 'IsHidden': 'N'}, {'Name': 'VRNM', 'FullName': 'Variable Name', 'Description': 'Variable Name', 'TermCount': '223739', 'IsDate': 'N', 'IsNumerical': 'N', 'SingleToken': 'Y', 'Hierarchy': 'N', 'IsHidden': 'N'}, {'Name': 'VRDS', 'FullName': 'Variable Description', 'Description': 'Variable Description', 'TermCount': '163304', 'IsDate': 'N', 'IsNumerical': 'N', 'SingleToken': 'Y', 'Hierarchy': 'N', 'IsHidden': 'N'}, {'Name': 'VAR', 'FullName': 'Variable', 'Description': 'Variable', 'TermCount': '1494355', 'IsDate': 'N', 'IsNumerical': 'N', 'SingleToken': 'Y', 'Hierarchy': 'N', 'IsHidden': 'N'}, {'Name': 'HASD', 'FullName': 'Has Document', 'Description': 'Has Document', 'TermCount': '4', 'IsDate': 'N', 'IsNumerical': 'N', 'SingleToken': 'Y', 'Hierarchy': 'N', 'IsHidden': 'N'}, {'Name': 'DCID', 'FullName': 'Document ID', 'Description': 'Document ID', 'TermCount': '13281', 'IsDate': 'N', 'IsNumerical': 'N', 'SingleToken': 'Y', 'Hierarchy': 'N', 'IsHidden': 'N'}, {'Name': 'DCNM', 'FullName': 'Document Name', 'Description': 'Document Name', 'TermCount': '10738', 'IsDate': 'N', 'IsNumerical': 'N', 'SingleToken': 'Y', 'Hierarchy': 'N', 'IsHidden': 'N'}, {'Name': 'DOC', 'FullName': 'Document', 'Description': 'Document', 'TermCount': '764966', 'IsDate': 'N', 'IsNumerical': 'N', 'SingleToken': 'Y', 'Hierarchy': 'N', 'IsHidden': 'N'}, {'Name': 'DOCP', 'FullName': 'Document Part', 'Description': 'Document Part', 'TermCount': '123556', 'IsDate': 'N', 'IsNumerical': 'N', 'SingleToken': 'Y', 'Hierarchy': 'N', 'IsHidden': 'N'}, {'Name': 'HASA', 'FullName': 'Has Analysis', 'Description': 'Has Analysis', 'TermCount': '4', 'IsDate': 'N', 'IsNumerical': 'N', 'SingleToken': 'Y', 'Hierarchy': 'N', 'IsHidden': 'N'}, {'Name': 'ANID', 'FullName': 'Analysis ID', 'Description': 'Analysis ID', 'TermCount': '8952', 'IsDate': 'N', 'IsNumerical': 'N', 'SingleToken': 'Y', 'Hierarchy': 'N', 'IsHidden': 'N'}, {'Name': 'ANNM', 'FullName': 'Analysis Name', 'Description': 'Analysis Name', 'TermCount': '4093', 'IsDate': 'N', 'IsNumerical': 'N', 'SingleToken': 'Y', 'Hierarchy': 'N', 'IsHidden': 'N'}, {'Name': 'ANLS', 'FullName': 'Analysis', 'Description': 'Analysis', 'TermCount': '26721', 'IsDate': 'N', 'IsNumerical': 'N', 'SingleToken': 'Y', 'Hierarchy': 'N', 'IsHidden': 'N'}, {'Name': 'HAST', 'FullName': 'Has Dataset', 'Description': 'Has Dataset', 'TermCount': '4', 'IsDate': 'N', 'IsNumerical': 'N', 'SingleToken': 'Y', 'Hierarchy': 'N', 'IsHidden': 'N'}, {'Name': 'DSID', 'FullName': 'Dataset ID', 'Description': 'Dataset ID', 'TermCount': '23964', 'IsDate': 'N', 'IsNumerical': 'N', 'SingleToken': 'Y', 'Hierarchy': 'N', 'IsHidden': 'N'}, {'Name': 'DSNM', 'FullName': 'Dataset Name', 'Description': 'Dataset Name', 'TermCount': '11508', 'IsDate': 'N', 'IsNumerical': 'N', 'SingleToken': 'Y', 'Hierarchy': 'N', 'IsHidden': 'N'}, {'Name': 'DS', 'FullName': 'Dataset', 'Description': 'Dataset', 'TermCount': '65928', 'IsDate': 'N', 'IsNumerical': 'N', 'SingleToken': 'Y', 'Hierarchy': 'N', 'IsHidden': 'N'}, {'Name': 'PX', 'FullName': 'PhenX', 'Description': 'PhenX', 'TermCount': '3637', 'IsDate': 'N', 'IsNumerical': 'N', 'SingleToken': 'Y', 'Hierarchy': 'N', 'IsHidden': 'N'}, {'Name': 'HASP', 'FullName': 'Has PhenX Mapping', 'Description': 'Has PhenX Mapping', 'TermCount': '3', 'IsDate': 'N', 'IsNumerical': 'N', 'SingleToken': 'Y', 'Hierarchy': 'N', 'IsHidden': 'N'}, {'Name': 'ARCH', 'FullName': 'Study Archive', 'Description': 'Study Archive', 'TermCount': '1', 'IsDate': 'N', 'IsNumerical': 'N', 'SingleToken': 'Y', 'Hierarchy': 'N', 'IsHidden': 'N'}, {'Name': 'MOLE', 'FullName': 'Molecular Data Type', 'Description': 'Molecular Data Type', 'TermCount': '79', 'IsDate': 'N', 'IsNumerical': 'N', 'SingleToken': 'Y', 'Hierarchy': 'N', 'IsHidden': 'N'}, {'Name': 'PRPH', 'FullName': 'Primary Phenotype in Study', 'Description': 'Primary Phenotype in Study', 'TermCount': '585', 'IsDate': 'N', 'IsNumerical': 'N', 'SingleToken': 'Y', 'Hierarchy': 'N', 'IsHidden': 'N'}, {'Name': 'DAC', 'FullName': 'Data Access Committee', 'Description': 'Data Access Committee', 'TermCount': '22', 'IsDate': 'N', 'IsNumerical': 'N', 'SingleToken': 'Y', 'Hierarchy': 'N', 'IsHidden': 'N'}, {'Name': 'DESN', 'FullName': 'Study Design', 'Description': 'Study Design', 'TermCount': '15', 'IsDate': 'N', 'IsNumerical': 'N', 'SingleToken': 'Y', 'Hierarchy': 'N', 'IsHidden': 'N'}, {'Name': 'CDER', 'FullName': 'Common Data Element Resource', 'Description': 'Common Data Element Resource (e.g. LOINC, PhenX)', 'TermCount': '3', 'IsDate': 'N', 'IsNumerical': 'N', 'SingleToken': 'Y', 'Hierarchy': 'N', 'IsHidden': 'N'}, {'Name': 'CDET', 'FullName': 'Common Data Element Term', 'Description': 'Common Data Element Term (e.g. PhenX accession)', 'TermCount': '2074', 'IsDate': 'N', 'IsNumerical': 'N', 'SingleToken': 'Y', 'Hierarchy': 'N', 'IsHidden': 'N'}]\n"
     ]
    }
   ],
   "source": [
    "Entrez.email = \"cwarner@rockefeller.edu\"\n",
    "handle = Entrez.einfo(db = \"sra\") # Get handle with information\n",
    "record = Entrez.read(handle) # Change into Python object\n",
    "print(record.keys()) # Print the first \"dictionary layer\"\n",
    "print(record[\"DbInfo\"])\n",
    "print(record[\"DbInfo\"][\"FieldList\"])"
   ]
  },
  {
   "cell_type": "markdown",
   "metadata": {},
   "source": [
    "### A quick aside: finding the DTD file\n",
    "\n",
    "Let's do our Einfo search again, but instead of using the `Entrez.read()` function, which translates the XML returned by EInfo to Python dictionaries and lists, read and print it as an XML file so we can examine it more closely."
   ]
  },
  {
   "cell_type": "code",
   "execution_count": 29,
   "metadata": {},
   "outputs": [
    {
     "name": "stdout",
     "output_type": "stream",
     "text": [
      "b'<?xml version=\"1.0\" encoding=\"UTF-8\" ?>\\n<!DOCTYPE eInfoResult PUBLIC \"-//NLM//DTD einfo 20190110//EN\" \"https://eutils.ncbi.nlm.nih.gov/eutils/dtd/20190110/einfo.dtd\">\\n<eInfoResult>\\n<DbList>\\n\\n\\t<DbName>pubmed</DbName>\\n\\t<DbName>protein</DbName>\\n\\t<DbName>nuccore</DbName>\\n\\t<DbName>ipg</DbName>\\n\\t<DbName>nucleotide</DbName>\\n\\t<DbName>structure</DbName>\\n\\t<DbName>genome</DbName>\\n\\t<DbName>annotinfo</DbName>\\n\\t<DbName>assembly</DbName>\\n\\t<DbName>bioproject</DbName>\\n\\t<DbName>biosample</DbName>\\n\\t<DbName>blastdbinfo</DbName>\\n\\t<DbName>books</DbName>\\n\\t<DbName>cdd</DbName>\\n\\t<DbName>clinvar</DbName>\\n\\t<DbName>gap</DbName>\\n\\t<DbName>gapplus</DbName>\\n\\t<DbName>grasp</DbName>\\n\\t<DbName>dbvar</DbName>\\n\\t<DbName>gene</DbName>\\n\\t<DbName>gds</DbName>\\n\\t<DbName>geoprofiles</DbName>\\n\\t<DbName>medgen</DbName>\\n\\t<DbName>mesh</DbName>\\n\\t<DbName>nlmcatalog</DbName>\\n\\t<DbName>omim</DbName>\\n\\t<DbName>orgtrack</DbName>\\n\\t<DbName>pmc</DbName>\\n\\t<DbName>popset</DbName>\\n\\t<DbName>proteinclusters</DbName>\\n\\t<DbName>pcassay</DbName>\\n\\t<DbName>protfam</DbName>\\n\\t<DbName>pccompound</DbName>\\n\\t<DbName>pcsubstance</DbName>\\n\\t<DbName>seqannot</DbName>\\n\\t<DbName>snp</DbName>\\n\\t<DbName>sra</DbName>\\n\\t<DbName>taxonomy</DbName>\\n\\t<DbName>biocollections</DbName>\\n\\t<DbName>gtr</DbName>\\n</DbList>\\n\\n</eInfoResult>\\n'\n"
     ]
    }
   ],
   "source": [
    "from Bio import Entrez\n",
    "out_handle = open(\"entrez-data/einfo.xml\", \"w\")\n",
    "Entrez.email = \"cwarner@rockefeller.edu\"\n",
    "handle = Entrez.einfo() # Get handle with information\n",
    "result = handle.read()\n",
    "print(result)"
   ]
  },
  {
   "cell_type": "markdown",
   "metadata": {},
   "source": [
    "Take a look at the `einfo.xml` results. Note that before the beginning of the results, denoted by `<eInfoResult>`, the header contains information about the file encoding as well as the DTD file used to define the XML data returned. Click on this link and download/open the file. If you ever receive a warning about your DTD file when you use `Entrez.read()`, you will see a link for the updated DTD file in the warning. Biopython will automatically access this new DTD online and continue as usual, but if you want better performance you can update the DTD on your machine (see the Biopython Tutorial document Ch. 9 for complete instructions)."
   ]
  },
  {
   "cell_type": "markdown",
   "metadata": {},
   "source": [
    "## An Example with Genbank Data\n",
    "\n",
    "Here we will use several of the E-utilities to search for genomic data of the RPL16 gene of a prickly pear (opuntia) in the [NCBI Nucleotide Database](https://www.ncbi.nlm.nih.gov/nucleotide/). This will occur in several stages:\n",
    "\n",
    "1. Use EGQuery to find the number of hits for your search terms in the \"nuccore\" database.\n",
    "2. Use ESearch to get the UIDs searching in \"nuccore\" with the desired search terms\n",
    "3. Use EFetch to get the data associated  with those UIDs\n",
    "4. Parse this sequence data and write it to a .gb file\n",
    "5. Check your work by parsing the .gb file\n",
    "\n",
    "Let's begin by finding the number of results in the \"nuccore\" database.\n"
   ]
  },
  {
   "cell_type": "code",
   "execution_count": 5,
   "metadata": {},
   "outputs": [
    {
     "name": "stdout",
     "output_type": "stream",
     "text": [
      "dict_keys(['Term', 'eGQueryResult'])\n",
      "[{'DbName': 'pubmed', 'MenuName': 'PubMed', 'Count': '0', 'Status': 'Term or Database is not found'}, {'DbName': 'pmc', 'MenuName': 'PubMed Central', 'Count': '21', 'Status': 'Ok'}, {'DbName': 'mesh', 'MenuName': 'MeSH', 'Count': '0', 'Status': 'Term or Database is not found'}, {'DbName': 'books', 'MenuName': 'Books', 'Count': '0', 'Status': 'Term or Database is not found'}, {'DbName': 'pubmedhealth', 'MenuName': 'PubMed Health', 'Count': 'Error', 'Status': 'Database Error'}, {'DbName': 'omim', 'MenuName': 'OMIM', 'Count': '0', 'Status': 'Term or Database is not found'}, {'DbName': 'ncbisearch', 'MenuName': 'Site Search', 'Count': '0', 'Status': 'Term or Database is not found'}, {'DbName': 'nuccore', 'MenuName': 'Nucleotide', 'Count': '115', 'Status': 'Ok'}, {'DbName': 'nucgss', 'MenuName': 'GSS', 'Count': '0', 'Status': 'Ok'}, {'DbName': 'nucest', 'MenuName': 'EST', 'Count': '0', 'Status': 'Ok'}, {'DbName': 'protein', 'MenuName': 'Protein', 'Count': '90', 'Status': 'Ok'}, {'DbName': 'genome', 'MenuName': 'Genome', 'Count': '0', 'Status': 'Term or Database is not found'}, {'DbName': 'structure', 'MenuName': 'Structure', 'Count': '0', 'Status': 'Term or Database is not found'}, {'DbName': 'taxonomy', 'MenuName': 'Taxonomy', 'Count': '0', 'Status': 'Term or Database is not found'}, {'DbName': 'snp', 'MenuName': 'SNP', 'Count': '0', 'Status': 'Term or Database is not found'}, {'DbName': 'dbvar', 'MenuName': 'dbVar', 'Count': '0', 'Status': 'Term or Database is not found'}, {'DbName': 'gene', 'MenuName': 'Gene', 'Count': '31', 'Status': 'Ok'}, {'DbName': 'sra', 'MenuName': 'SRA', 'Count': '0', 'Status': 'Term or Database is not found'}, {'DbName': 'biosystems', 'MenuName': 'BioSystems', 'Count': 'Error', 'Status': 'Database Error'}, {'DbName': 'unigene', 'MenuName': 'UniGene', 'Count': '0', 'Status': 'Ok'}, {'DbName': 'cdd', 'MenuName': 'Conserved Domains', 'Count': '0', 'Status': 'Term or Database is not found'}, {'DbName': 'clone', 'MenuName': 'Clone', 'Count': '0', 'Status': 'Ok'}, {'DbName': 'popset', 'MenuName': 'PopSet', 'Count': '5', 'Status': 'Ok'}, {'DbName': 'geoprofiles', 'MenuName': 'GEO Profiles', 'Count': '0', 'Status': 'Term or Database is not found'}, {'DbName': 'gds', 'MenuName': 'GEO DataSets', 'Count': '0', 'Status': 'Term or Database is not found'}, {'DbName': 'homologene', 'MenuName': 'HomoloGene', 'Count': 'Error', 'Status': 'Database Error'}, {'DbName': 'pccompound', 'MenuName': 'PubChem Compound', 'Count': '0', 'Status': 'Term or Database is not found'}, {'DbName': 'pcsubstance', 'MenuName': 'PubChem Substance', 'Count': '0', 'Status': 'Term or Database is not found'}, {'DbName': 'pcassay', 'MenuName': 'PubChem BioAssay', 'Count': '0', 'Status': 'Term or Database is not found'}, {'DbName': 'nlmcatalog', 'MenuName': 'NLM Catalog', 'Count': '0', 'Status': 'Term or Database is not found'}, {'DbName': 'probe', 'MenuName': 'Probe', 'Count': '0', 'Status': 'Ok'}, {'DbName': 'gap', 'MenuName': 'dbGaP', 'Count': '0', 'Status': 'Term or Database is not found'}, {'DbName': 'proteinclusters', 'MenuName': 'Protein Clusters', 'Count': '0', 'Status': 'Term or Database is not found'}, {'DbName': 'bioproject', 'MenuName': 'BioProject', 'Count': '0', 'Status': 'Term or Database is not found'}, {'DbName': 'biosample', 'MenuName': 'BioSample', 'Count': '0', 'Status': 'Term or Database is not found'}, {'DbName': 'biocollections', 'MenuName': 'BioCollections', 'Count': '0', 'Status': 'Term or Database is not found'}]\n",
      "115\n"
     ]
    }
   ],
   "source": [
    "from Bio import Entrez\n",
    "Entrez.email = \"cwarner@rockefeller.edu\"\n",
    "\n",
    "handle = Entrez.egquery(term=\"Opuntia AND rpl16\") # Search all databases for the specified terms\n",
    "record = Entrez.read(handle) \n",
    "print(record.keys())\n",
    "print(record[\"eGQueryResult\"])\n",
    "\n",
    "for row in record['eGQueryResult']:\n",
    "    if row[\"DbName\"] == \"nuccore\":\n",
    "        print(row[\"Count\"])\n"
   ]
  },
  {
   "cell_type": "code",
   "execution_count": 10,
   "metadata": {},
   "outputs": [
    {
     "name": "stdout",
     "output_type": "stream",
     "text": [
      "dict_keys(['Count', 'RetMax', 'RetStart', 'IdList', 'TranslationSet', 'TranslationStack', 'QueryTranslation'])\n",
      "['2689244941', '2689244853', '2666708278', '2666703263', '2419852361', '2643614054', '2627891212', '2627891124', '2627891047', '2627890961', '2627890885', '2627890802', '2627890718', '2627890636', '2627890548', '2627890460', '2627890382', '2627890305', '2627890228', '2627890152', '2627890068', '2627889984', '2627889900', '2627889817', '2627889740', '2627889653', '2627889560', '2627889470', '2627889380', '2627889278', '2627889193', '2627889118', '2627889035', '2627888952', '2582771976', '2582771888', '2582771811', '2582771725', '2582771649', '2582771566', '2582771482', '2582771400', '2582771312', '2582771241', '2582771153', '2582771075', '2582770998', '2582770921', '2582770845', '2582770761', '2582770677', '2582770593', '2582770510', '2582770433', '2582770349', '2582770274', '2582770192', '2582770117', '2582770042', '2582769959', '2582769885', '2582769808', '2582769733', '2582769650', '2582769567', '2496231309', '2281558632', '2438313908', '2308289420', '2308289413', '2308289406', '2308289399', '2308289392', '2308289385', '2308289378', '2308289371', '2272655797', '2261459663', '1972904692', '1972904685', '1972904678', '1972904671', '1972904664', '1972904657', '1972904650', '1972904643', '1972904636', '1972904629', '1972904622', '1841709044', '377581039', '330887241', '330887240', '330887239', '330887238', '330887237', '330887236', '330887235', '330887233', '330887232', '330887231', '330887228', '330887227', '330887226', '330887225', '330887224', '57240072', '57240071', '6273287', '6273291', '6273290', '6273289', '6273286', '6273285', '6273284']\n",
      "115\n"
     ]
    }
   ],
   "source": [
    "handle = Entrez.esearch(db = \"nuccore\", term = \"Opuntia AND rpl16\", retmax = 200)\n",
    "record = Entrez.read(handle)\n",
    "print(record.keys())\n",
    "id_list = record[\"IdList\"]\n",
    "print(id_list)\n",
    "print(len(id_list))"
   ]
  },
  {
   "cell_type": "code",
   "execution_count": 13,
   "metadata": {},
   "outputs": [],
   "source": [
    "from Bio import SeqIO\n",
    "\n",
    "handle = Entrez.efetch(db = \"nuccore\", id = id_list, rettype = \"gb\", retmore = \"text\")\n",
    "records = SeqIO.parse(handle = handle, format = \"genbank\")\n",
    "\n",
    "with open(\"entrez-data/opuntia.gb\", \"w\") as output_handle:\n",
    "    for record in records:\n",
    "        SeqIO.write(sequences = record, handle = output_handle, format = \"genbank\")"
   ]
  },
  {
   "cell_type": "code",
   "execution_count": 14,
   "metadata": {},
   "outputs": [
    {
     "name": "stdout",
     "output_type": "stream",
     "text": [
      "GACCAAACAG\n",
      "TTTGTTGAAG\n",
      "GCGAACGACG\n",
      "ATAAATAATT\n",
      "ATAAATAATT\n",
      "GCGAACGACG\n",
      "ACTTAATAGC\n",
      "AAAAAGAAAT\n",
      "TTAGAAAGAA\n",
      "GAAAGGGTAG\n",
      "ACAGTAAGAA\n",
      "CCAAGTCAAG\n",
      "CCAAGTCAAG\n",
      "CCAAGTCAAG\n",
      "AAAAAGAAAT\n",
      "AAAAAGAAAT\n",
      "AAAAAGAAAT\n",
      "AAGAATTGAA\n",
      "TTAGAAAGAA\n",
      "TTAGAAAGAA\n",
      "CCAAGTCAAG\n",
      "CTTGCGCCAA\n",
      "CTTGCGCCAA\n",
      "CTTGCGCCAA\n",
      "AAGAATTGAA\n",
      "CTTGCGCCAA\n",
      "CCAAGTCAAG\n",
      "TTAGAAAGAA\n",
      "TTAGAAAGAA\n",
      "CTTGCGCCAA\n",
      "AAGAATTGAA\n",
      "TTAGAAAGAA\n",
      "CTTGCGCCAA\n",
      "CCAAGTCAAG\n",
      "ACTTAATAGC\n",
      "AAAAAGAAAT\n",
      "TTAGAAAGAA\n",
      "GAAAGGGTAG\n",
      "ACAGTAAGAA\n",
      "CCAAGTCAAG\n",
      "CCAAGTCAAG\n",
      "CCAAGTCAAG\n",
      "AAAAAGAAAT\n",
      "GGCGAACGAC\n",
      "AAAAAGAAAT\n",
      "AAAAAGAAAT\n",
      "AAGAATTGAA\n",
      "TTAGAAAGAA\n",
      "TTAGAAAGAA\n",
      "CCAAGTCAAG\n",
      "CTTGCGCCAA\n",
      "CTTGCGCCAA\n",
      "CTTGCGCCAA\n",
      "AAGAATTGAA\n",
      "CTTGCGCCAA\n",
      "CGAGAAAGGG\n",
      "CCAAGTCAAG\n",
      "TTAGAAAGAA\n",
      "TTAGAAAGAA\n",
      "CTTGCGCCAA\n",
      "ATTTACAGAC\n",
      "AAGAATTGAA\n",
      "TTAGAAAGAA\n",
      "CTTGCGCCAA\n",
      "CCAAGTCAAG\n",
      "CTTAGTGTGT\n",
      "ATACTTTCAA\n",
      "ATGCTTAGTG\n",
      "ATGCTTAGTG\n",
      "ATGCTTAGTG\n",
      "ATGCTTAGTG\n",
      "ATGCTTAGTG\n",
      "ATGCTTAGTG\n",
      "ATGCTTAGTG\n",
      "ATGCTTAGTG\n",
      "ATGCTTAGTG\n",
      "ATACTTTCAA\n",
      "GTAAGAGCCC\n",
      "ATGCTTAGTG\n",
      "ATGCTTAGTG\n",
      "ATGCTTAGTG\n",
      "ATGCTTAGTG\n",
      "ATGCTTAGTG\n",
      "ATGCTTAGTG\n",
      "ATGCTTAGTG\n",
      "ATGCTTAGTG\n",
      "ATGCTTAGTG\n",
      "ATGCTTAGTG\n",
      "ATGCTTAGTG\n",
      "TTCTATAAAC\n",
      "AACCCCAAAA\n",
      "GTGATATACG\n",
      "TGATATACGA\n",
      "GCCCATAGTA\n",
      "GATATACGAA\n",
      "AAAAGTAAGA\n",
      "TTGTGNGNCT\n",
      "GGGCCCNNNA\n",
      "GAGCCCATAG\n",
      "CCGNNCNTTG\n",
      "GTAAGAGCCC\n",
      "ATATACGAAA\n",
      "GATATACGAA\n",
      "GTGATATCGA\n",
      "GCTGTGATAT\n",
      "TGATATACGA\n",
      "CATTAAAGAA\n",
      "CATTAAAGGA\n",
      "TATACATTAA\n",
      "TATACATTAA\n",
      "TATACATTAA\n",
      "TATACATTAA\n",
      "TATACATAAA\n",
      "TATACATTAA\n",
      "TATACATTAA\n"
     ]
    }
   ],
   "source": [
    "records = SeqIO.parse(handle = \"entrez-data/opuntia.gb\", format = \"genbank\")\n",
    "for record in records:\n",
    "    print(record.seq[0:10])"
   ]
  },
  {
   "cell_type": "markdown",
   "metadata": {},
   "source": [
    "## Using the History Feature\n",
    "\n",
    "When we create pipelines of different E-utilities, the best practice is to store the intermediate information on the NCBI History server, rather than on our own devices. To add an item to the History server, we can use the EPost E-utility, or we can set the `usehistory = \"y\"` parameter when using ESearch. Each item in the History server will have two identifying parameters: the WebEnv (cookies string) and an integer Query Key. By invoking these identifiers, we can access our information directly from the server, rather than having to use our own device's memory. Note that we can also combine different records in the History server, which will share a WebEnv but have different Query Keys.\n",
    "\n",
    "In the example below, we will run an ESearch on PubMed, setting `usehistory = \"y\"` so that the results are posted on the server. Then, we will pull the results from the server using EFetch to retrieve the citation information about these items. Without the history, we would have had to define the list of UIDs as a variable in our code, and then call the EFetch function on that list of UIDs. \n",
    "\n",
    "In the code block below, we will run the initial search."
   ]
  },
  {
   "cell_type": "code",
   "execution_count": 16,
   "metadata": {},
   "outputs": [
    {
     "name": "stdout",
     "output_type": "stream",
     "text": [
      "dict_keys(['Count', 'RetMax', 'RetStart', 'QueryKey', 'WebEnv', 'IdList', 'TranslationSet', 'QueryTranslation', 'ErrorList'])\n",
      "128\n"
     ]
    }
   ],
   "source": [
    "from Bio import Entrez\n",
    "Entrez.email = \"cwarner@rockefeller.edu\"\n",
    "\n",
    "handle = Entrez.esearch(db = \"pubmed\", term = \"Opuntia[ORGN]\", reldate = 365, datetype = \"pdat\", usehistory = \"y\")\n",
    "search_results = Entrez.read(handle)\n",
    "print(search_results.keys())\n",
    "\n",
    "count = int(search_results[\"Count\"])\n",
    "print(count)\n"
   ]
  },
  {
   "cell_type": "markdown",
   "metadata": {},
   "source": [
    "Now that we have performed the search, the results are saved in our History. Now, we can use the EFetch function to refer to these results and get the full citations. We will also download them in batches of 10. "
   ]
  },
  {
   "cell_type": "code",
   "execution_count": 18,
   "metadata": {},
   "outputs": [
    {
     "name": "stdout",
     "output_type": "stream",
     "text": [
      "Downloading records 1 through10\n",
      "Downloading records 11 through20\n",
      "Downloading records 21 through30\n",
      "Downloading records 31 through40\n",
      "Downloading records 41 through50\n",
      "Downloading records 51 through60\n",
      "Downloading records 61 through70\n",
      "Downloading records 71 through80\n",
      "Downloading records 81 through90\n",
      "Downloading records 91 through100\n",
      "Downloading records 101 through110\n",
      "Downloading records 111 through120\n",
      "Downloading records 121 through128\n"
     ]
    }
   ],
   "source": [
    "batch_size = 10\n",
    "out_handle = open(\"entrez-data/opuntia-papers.txt\", \"w\")\n",
    "\n",
    "for start in range(0, count, batch_size):\n",
    "    end = min(count, start + batch_size)\n",
    "    print(\"Downloading records {} through {}\".format(start + 1, end))\n",
    "    fetch_handle = Entrez.efetch(db = \"pubmed\", rettype = \"medline\", retmode = \"text\", retstart = start, retmax = batch_size, webenv = search_results[\"WebEnv\"], query_key = search_results[\"QueryKey\"])\n",
    "\n",
    "    data = fetch_handle.read()\n",
    "    fetch_handle.close()\n",
    "    out_handle.write(data)\n",
    "out_handle.close()\n"
   ]
  },
  {
   "cell_type": "markdown",
   "metadata": {},
   "source": [
    "We now have a MEDLINE formatted file with all 128 citations. We can easily add this to any reference management software. Alternatively, we can use the `Bio.Medline` module to parse this file and extract additional information.\n",
    "\n",
    "### Revisiting our GenBank Search\n",
    "\n",
    "With this in mind, let's also revisit our Opuntia sequence search and do things the \"right\" way using the History server. First, let's redo our search but this time using `usehistory = \"y\"`. Note that we no longer have to deal with the awkward problem of \"retmax\" since the results are being stored on the server, and we are not actually retrieving the list of UIDs here! All we need is the \"Count\", which is the total number of results rather than the number of UIDs returned. "
   ]
  },
  {
   "cell_type": "code",
   "execution_count": 25,
   "metadata": {},
   "outputs": [
    {
     "name": "stdout",
     "output_type": "stream",
     "text": [
      "MCID_65ef23ef25842c72a56cfb44\n",
      "1\n",
      "115\n"
     ]
    }
   ],
   "source": [
    "from Bio import Entrez\n",
    "Entrez.email = \"cwarner@rockefeller.edu\"\n",
    "\n",
    "handle = Entrez.esearch(db = \"nuccore\", term = \"Opuntia AND rpl16\", usehistory = \"y\")\n",
    "search_results = Entrez.read(handle)\n",
    "handle.close()\n",
    "\n",
    "webenv = search_results[\"WebEnv\"]\n",
    "query_key = search_results[\"QueryKey\"]\n",
    "count = int(search_results[\"Count\"])\n",
    "\n",
    "print(webenv)\n",
    "print(query_key)\n",
    "print(count)"
   ]
  },
  {
   "cell_type": "markdown",
   "metadata": {},
   "source": [
    "Now that we have the search saved in the History, we can download the results in batches (best practice). This time, let's write them to a file in FASTA format. For all of the available retrieval modes (defined by the `retmode` variable), see this [table](https://www.ncbi.nlm.nih.gov/books/NBK25499/table/chapter4.T._valid_values_of__retmode_and/?report=objectonly)."
   ]
  },
  {
   "cell_type": "code",
   "execution_count": 26,
   "metadata": {},
   "outputs": [
    {
     "name": "stdout",
     "output_type": "stream",
     "text": [
      "Downloading records 1 through 10\n",
      "Downloading records 11 through 20\n",
      "Downloading records 21 through 30\n",
      "Downloading records 31 through 40\n",
      "Downloading records 41 through 50\n",
      "Downloading records 51 through 60\n",
      "Downloading records 61 through 70\n",
      "Downloading records 71 through 80\n",
      "Downloading records 81 through 90\n",
      "Downloading records 91 through 100\n",
      "Downloading records 101 through 110\n",
      "Downloading records 111 through 115\n"
     ]
    }
   ],
   "source": [
    "batch_size = 10\n",
    "out_handle = open(\"entrez-data/opuntia.fasta\", \"w\")\n",
    "\n",
    "for start in range(0, count, batch_size):\n",
    "    end = min(count, start + batch_size)\n",
    "    print(\"Downloading records {} through {}\".format(start + 1, end))\n",
    "    fetch_handle = Entrez.efetch(db = \"nuccore\", rettype = \"fasta\", retmode = \"text\", retstart = start, retmax = batch_size, webenv = webenv, query_key = query_key)\n",
    "    data = fetch_handle.read()\n",
    "    fetch_handle.close()\n",
    "    out_handle.write(data)\n",
    "out_handle.close()"
   ]
  },
  {
   "cell_type": "markdown",
   "metadata": {},
   "source": [
    "Now, let's parse the data and see that it is the same as what we got before!"
   ]
  },
  {
   "cell_type": "code",
   "execution_count": 27,
   "metadata": {},
   "outputs": [
    {
     "name": "stdout",
     "output_type": "stream",
     "text": [
      "GACCAAACAG\n",
      "TTTGTTGAAG\n",
      "GCGAACGACG\n",
      "ATAAATAATT\n",
      "ATAAATAATT\n",
      "GCGAACGACG\n",
      "ACTTAATAGC\n",
      "AAAAAGAAAT\n",
      "TTAGAAAGAA\n",
      "GAAAGGGTAG\n",
      "ACAGTAAGAA\n",
      "CCAAGTCAAG\n",
      "CCAAGTCAAG\n",
      "CCAAGTCAAG\n",
      "AAAAAGAAAT\n",
      "AAAAAGAAAT\n",
      "AAAAAGAAAT\n",
      "AAGAATTGAA\n",
      "TTAGAAAGAA\n",
      "TTAGAAAGAA\n",
      "CCAAGTCAAG\n",
      "CTTGCGCCAA\n",
      "CTTGCGCCAA\n",
      "CTTGCGCCAA\n",
      "AAGAATTGAA\n",
      "CTTGCGCCAA\n",
      "CCAAGTCAAG\n",
      "TTAGAAAGAA\n",
      "TTAGAAAGAA\n",
      "CTTGCGCCAA\n",
      "AAGAATTGAA\n",
      "TTAGAAAGAA\n",
      "CTTGCGCCAA\n",
      "CCAAGTCAAG\n",
      "ACTTAATAGC\n",
      "AAAAAGAAAT\n",
      "TTAGAAAGAA\n",
      "GAAAGGGTAG\n",
      "ACAGTAAGAA\n",
      "CCAAGTCAAG\n",
      "CCAAGTCAAG\n",
      "CCAAGTCAAG\n",
      "AAAAAGAAAT\n",
      "GGCGAACGAC\n",
      "AAAAAGAAAT\n",
      "AAAAAGAAAT\n",
      "AAGAATTGAA\n",
      "TTAGAAAGAA\n",
      "TTAGAAAGAA\n",
      "CCAAGTCAAG\n",
      "CTTGCGCCAA\n",
      "CTTGCGCCAA\n",
      "CTTGCGCCAA\n",
      "AAGAATTGAA\n",
      "CTTGCGCCAA\n",
      "CGAGAAAGGG\n",
      "CCAAGTCAAG\n",
      "TTAGAAAGAA\n",
      "TTAGAAAGAA\n",
      "CTTGCGCCAA\n",
      "ATTTACAGAC\n",
      "AAGAATTGAA\n",
      "TTAGAAAGAA\n",
      "CTTGCGCCAA\n",
      "CCAAGTCAAG\n",
      "CTTAGTGTGT\n",
      "ATACTTTCAA\n",
      "ATGCTTAGTG\n",
      "ATGCTTAGTG\n",
      "ATGCTTAGTG\n",
      "ATGCTTAGTG\n",
      "ATGCTTAGTG\n",
      "ATGCTTAGTG\n",
      "ATGCTTAGTG\n",
      "ATGCTTAGTG\n",
      "ATGCTTAGTG\n",
      "ATACTTTCAA\n",
      "GTAAGAGCCC\n",
      "ATGCTTAGTG\n",
      "ATGCTTAGTG\n",
      "ATGCTTAGTG\n",
      "ATGCTTAGTG\n",
      "ATGCTTAGTG\n",
      "ATGCTTAGTG\n",
      "ATGCTTAGTG\n",
      "ATGCTTAGTG\n",
      "ATGCTTAGTG\n",
      "ATGCTTAGTG\n",
      "ATGCTTAGTG\n",
      "TTCTATAAAC\n",
      "AACCCCAAAA\n",
      "GTGATATACG\n",
      "TGATATACGA\n",
      "GCCCATAGTA\n",
      "GATATACGAA\n",
      "AAAAGTAAGA\n",
      "TTGTGNGNCT\n",
      "GGGCCCNNNA\n",
      "GAGCCCATAG\n",
      "CCGNNCNTTG\n",
      "GTAAGAGCCC\n",
      "ATATACGAAA\n",
      "GATATACGAA\n",
      "GTGATATCGA\n",
      "GCTGTGATAT\n",
      "TGATATACGA\n",
      "CATTAAAGAA\n",
      "CATTAAAGGA\n",
      "TATACATTAA\n",
      "TATACATTAA\n",
      "TATACATTAA\n",
      "TATACATTAA\n",
      "TATACATAAA\n",
      "TATACATTAA\n",
      "TATACATTAA\n"
     ]
    }
   ],
   "source": [
    "records = SeqIO.parse(handle = \"entrez-data/opuntia.fasta\", format = \"fasta\")\n",
    "for record in records:\n",
    "    print(record.seq[0:10])"
   ]
  },
  {
   "cell_type": "markdown",
   "metadata": {},
   "source": [
    "## Putting It All Together\n",
    "\n",
    "### Dealing with Large Data: Reading vs Parsing\n",
    "\n",
    "As we have seen throughout the Biopython module, when dealing with large data files it is better to parse them rather than reading them. Rather than creating one Python object for your entire data file (in this case an XML file), the `Entrez.parse()` function allows you to read XML records one-by-one. In this workshop, we have not be dealing with large data files and will simply use the `Entrez.read()` function. Note that one result from an E-utility can't be parsed because it counts as one \"item\". This is intended for other types of XML data from NCBI.\n",
    "\n",
    "### Building Python Functions with E-utilities\n",
    "\n",
    "All of the code we wrote previously could be easily made into Python functions. For example, you could define a function that searches PubMed for a given search term and then generates a citation file all in one step (or a similar scheme for retrieving data files).\n",
    "\n",
    "### An Example with ELink\n",
    "\n",
    "Let's use a different E-utility this time: ELink. ELink has the following functions ()"
   ]
  },
  {
   "cell_type": "code",
   "execution_count": 43,
   "metadata": {},
   "outputs": [
    {
     "name": "stdout",
     "output_type": "stream",
     "text": [
      "{'Count': '1', 'RetMax': '1', 'RetStart': '0', 'IdList': ['9709'], 'TranslationSet': [], 'TranslationStack': [{'Term': 'phocidae[All Names]', 'Field': 'All Names', 'Count': '1', 'Explode': 'N'}, 'GROUP'], 'QueryTranslation': 'phocidae[All Names]'}\n"
     ]
    }
   ],
   "source": [
    "from Bio import Entrez\n",
    "Entrez.email = \"cwarner@rockefeller.edu\"\n",
    "\n",
    "handle = Entrez.esearch(db = \"taxonomy\", term = \"phocidae\")\n",
    "results = Entrez.read(handle)\n",
    "handle.close()\n",
    "\n",
    "print(results)\n",
    "\n",
    "id_list = results[\"IdList\"]\n",
    "\n",
    "\n"
   ]
  },
  {
   "cell_type": "code",
   "execution_count": null,
   "metadata": {},
   "outputs": [],
   "source": [
    "handle = Entrez.elink(db = \"pubmed\", dbfrom = \"taxonomy\", id = id_list, usehistory = \"y\")\n",
    "search_results = Entrez.read(handle)\n",
    "handle.close()\n",
    "\n",
    "\n",
    "\n",
    "# webenv = search_results[\"WebEnv\"]\n",
    "# query_key = search_results[\"QueryKey\"]\n",
    "# count = int(search_results[\"Count\"])\n",
    "\n",
    "# print(webenv)\n",
    "# print(query_key)\n",
    "# print(count)\n"
   ]
  },
  {
   "cell_type": "code",
   "execution_count": 46,
   "metadata": {},
   "outputs": [
    {
     "name": "stdout",
     "output_type": "stream",
     "text": [
      "{'LinkSetDb': [{'Link': [{'Id': '15845833'}, {'Id': '15840117'}, {'Id': '15755884'}, {'Id': '15702463'}, {'Id': '15657738'}, {'Id': '15653886'}, {'Id': '15636154'}, {'Id': '15627521'}, {'Id': '15599768'}, {'Id': '15597432'}, {'Id': '15581937'}, {'Id': '15574926'}, {'Id': '15547801'}, {'Id': '15519732'}, {'Id': '15508573'}, {'Id': '15506185'}, {'Id': '15504391'}, {'Id': '15488010'}, {'Id': '15465714'}, {'Id': '15388740'}, {'Id': '15386135'}, {'Id': '15376691'}, {'Id': '15365810'}, {'Id': '15362830'}, {'Id': '15352491'}, {'Id': '15336671'}, {'Id': '15330452'}, {'Id': '15325146'}, {'Id': '15296299'}, {'Id': '15288743'}, {'Id': '15270120'}, {'Id': '15264492'}, {'Id': '15247308'}, {'Id': '15245408'}, {'Id': '15234883'}, {'Id': '15233163'}, {'Id': '15200869'}, {'Id': '15193087'}, {'Id': '15190756'}, {'Id': '15172694'}, {'Id': '15165069'}, {'Id': '15165046'}, {'Id': '15145227'}, {'Id': '15144018'}, {'Id': '15143524'}, {'Id': '15143043'}, {'Id': '15143018'}, {'Id': '15139648'}, {'Id': '15137488'}, {'Id': '15073194'}, {'Id': '15051243'}, {'Id': '15046342'}, {'Id': '15041431'}, {'Id': '15030005'}, {'Id': '15028534'}, {'Id': '15016501'}, {'Id': '15012900'}, {'Id': '15012757'}, {'Id': '14967507'}, {'Id': '14960030'}, {'Id': '14871373'}, {'Id': '14768880'}, {'Id': '14766956'}, {'Id': '14760453'}, {'Id': '14740925'}, {'Id': '14735915'}, {'Id': '14717162'}, {'Id': '14715808'}, {'Id': '14688033'}, {'Id': '14664160'}, {'Id': '14653915'}, {'Id': '14634822'}, {'Id': '14627366'}, {'Id': '14624043'}, {'Id': '14607537'}, {'Id': '14594367'}, {'Id': '14587923'}, {'Id': '14580799'}, {'Id': '14573995'}, {'Id': '14572509'}, {'Id': '14572224'}, {'Id': '14567238'}, {'Id': '14567222'}, {'Id': '14567209'}, {'Id': '14555753'}, {'Id': '14555750'}, {'Id': '14552014'}, {'Id': '14533706'}, {'Id': '14514219'}, {'Id': '13130011'}, {'Id': '12968944'}, {'Id': '12968740'}, {'Id': '12967344'}, {'Id': '12940138'}, {'Id': '12939372'}, {'Id': '12934803'}, {'Id': '12932203'}, {'Id': '12924101'}, {'Id': '12918405'}, {'Id': '12905128'}, {'Id': '12890545'}, {'Id': '12884015'}, {'Id': '12865050'}, {'Id': '12860100'}, {'Id': '12856134'}, {'Id': '12847125'}, {'Id': '12837554'}, {'Id': '12832831'}, {'Id': '12824516'}, {'Id': '12822810'}, {'Id': '12816642'}, {'Id': '12808215'}, {'Id': '12805643'}, {'Id': '12798369'}, {'Id': '12797981'}, {'Id': '12771410'}, {'Id': '12759767'}, {'Id': '12757552'}, {'Id': '12738264'}, {'Id': '12738219'}, {'Id': '12723627'}, {'Id': '12712284'}, {'Id': '12699922'}, {'Id': '12697319'}, {'Id': '12685077'}, {'Id': '12685065'}, {'Id': '12682104'}, {'Id': '12666910'}, {'Id': '12658464'}, {'Id': '12654885'}, {'Id': '12650250'}, {'Id': '12637757'}, {'Id': '12627653'}, {'Id': '12597209'}, {'Id': '12592441'}, {'Id': '12585598'}, {'Id': '12568803'}, {'Id': '12567006'}, {'Id': '12560542'}, {'Id': '12558298'}, {'Id': '12547272'}, {'Id': '12542748'}, {'Id': '12537117'}, {'Id': '12535628'}, {'Id': '12530551'}, {'Id': '12529852'}, {'Id': '12526905'}, {'Id': '12523541'}, {'Id': '12521252'}, {'Id': '12509031'}, {'Id': '12498737'}, {'Id': '12484416'}, {'Id': '12481110'}, {'Id': '12469777'}, {'Id': '12469553'}, {'Id': '12463547'}, {'Id': '12463537'}, {'Id': '12458181'}, {'Id': '12448498'}, {'Id': '12444470'}, {'Id': '12443945'}, {'Id': '12443944'}, {'Id': '12437032'}, {'Id': '12432391'}, {'Id': '12416866'}, {'Id': '12409502'}, {'Id': '12409486'}, {'Id': '12408578'}, {'Id': '12398388'}, {'Id': '12398323'}, {'Id': '12398309'}, {'Id': '12396224'}, {'Id': '12389914'}, {'Id': '12386702'}, {'Id': '12363376'}, {'Id': '12240525'}, {'Id': '12219901'}, {'Id': '12217706'}, {'Id': '12216795'}, {'Id': '12208307'}, {'Id': '12189595'}, {'Id': '12189594'}, {'Id': '12186285'}, {'Id': '12166673'}, {'Id': '12160318'}, {'Id': '12146519'}, {'Id': '12125730'}, {'Id': '12115051'}, {'Id': '12114617'}, {'Id': '12111424'}, {'Id': '12109735'}, {'Id': '12107458'}, {'Id': '12106895'}, {'Id': '12070915'}, {'Id': '12062155'}, {'Id': '12045881'}, {'Id': '12037594'}, {'Id': '12037592'}, {'Id': '12026967'}, {'Id': '12026966'}, {'Id': '12019703'}, {'Id': '12019650'}, {'Id': '12014578'}, {'Id': '11999793'}, {'Id': '11951954'}, {'Id': '11931170'}, {'Id': '11919630'}, {'Id': '11913550'}, {'Id': '11912341'}, {'Id': '11911523'}, {'Id': '11910465'}, {'Id': '11897201'}, {'Id': '11885579'}, {'Id': '11846022'}, {'Id': '11832402'}, {'Id': '11811199'}, {'Id': '11807117'}, {'Id': '11807105'}, {'Id': '11804067'}, {'Id': '11804061'}, {'Id': '11799219'}, {'Id': '11795214'}, {'Id': '11765972'}, {'Id': '11763748'}, {'Id': '11763734'}, {'Id': '11742847'}, {'Id': '11738761'}, {'Id': '11732810'}, {'Id': '11718326'}, {'Id': '11706376'}, {'Id': '11701452'}, {'Id': '11695398'}, {'Id': '11681471'}, {'Id': '11585261'}, {'Id': '11580057'}, {'Id': '11571049'}, {'Id': '11554977'}, {'Id': '11546851'}, {'Id': '11534647'}, {'Id': '11528465'}, {'Id': '11491339'}, {'Id': '11491337'}, {'Id': '11489421'}, {'Id': '11488512'}, {'Id': '11488238'}, {'Id': '11482455'}, {'Id': '11481497'}, {'Id': '11470542'}, {'Id': '11448852'}, {'Id': '11444300'}, {'Id': '11441183'}, {'Id': '11441158'}, {'Id': '11440865'}, {'Id': '11440864'}, {'Id': '11440863'}, {'Id': '11436137'}, {'Id': '11428220'}, {'Id': '11423313'}, {'Id': '11386444'}, {'Id': '11372845'}, {'Id': '11337873'}, {'Id': '11328346'}, {'Id': '11321059'}, {'Id': '11315947'}, {'Id': '11310893'}, {'Id': '11304747'}, {'Id': '11299286'}, {'Id': '11291457'}, {'Id': '11287559'}, {'Id': '11285735'}, {'Id': '11285731'}, {'Id': '11278118'}, {'Id': '11272509'}, {'Id': '11266000'}, {'Id': '11264961'}, {'Id': '11248288'}, {'Id': '11239773'}, {'Id': '11237146'}, {'Id': '11227905'}, {'Id': '11223392'}, {'Id': '11217905'}, {'Id': '11214732'}, {'Id': '11211252'}, {'Id': '11205532'}, {'Id': '11202754'}, {'Id': '11202713'}, {'Id': '11202650'}, {'Id': '11200588'}, {'Id': '11185006'}, {'Id': '11171659'}, {'Id': '11171347'}, {'Id': '11166678'}, {'Id': '11153657'}, {'Id': '11153130'}, {'Id': '11151670'}, {'Id': '11132695'}, {'Id': '11126323'}, {'Id': '11122522'}, {'Id': '11121352'}, {'Id': '11117947'}, {'Id': '11108453'}, {'Id': '11094725'}, {'Id': '11090893'}, {'Id': '11083522'}, {'Id': '11082302'}, {'Id': '11076723'}, {'Id': '11069110'}, {'Id': '11064121'}, {'Id': '11057612'}, {'Id': '11036974'}, {'Id': '11034483'}, {'Id': '11032547'}, {'Id': '11023846'}, {'Id': '11012359'}, {'Id': '11008832'}, {'Id': '10996189'}, {'Id': '10989337'}, {'Id': '10979504'}, {'Id': '10979503'}, {'Id': '10955881'}, {'Id': '10952269'}, {'Id': '10941754'}, {'Id': '10936042'}, {'Id': '10935518'}, {'Id': '10917829'}, {'Id': '10907141'}, {'Id': '10905938'}, {'Id': '10904810'}, {'Id': '10902691'}, {'Id': '10887981'}, {'Id': '10887070'}, {'Id': '10877712'}, {'Id': '10862725'}, {'Id': '10860161'}, {'Id': '10843057'}, {'Id': '10828179'}, {'Id': '10819223'}, {'Id': '10811256'}, {'Id': '10807575'}, {'Id': '10753116'}, {'Id': '10749439'}, {'Id': '10737295'}, {'Id': '10736026'}, {'Id': '10720747'}, {'Id': '10720717'}, {'Id': '10712564'}, {'Id': '10707286'}, {'Id': '10699036'}, {'Id': '10685906'}, {'Id': '10682359'}, {'Id': '10635597'}, {'Id': '10635596'}, {'Id': '10609572'}, {'Id': '10609308'}, {'Id': '10605069'}, {'Id': '10603331'}, {'Id': '10588467'}, {'Id': '10574540'}, {'Id': '10564447'}, {'Id': '10549140'}, {'Id': '10530900'}, {'Id': '10521683'}, {'Id': '10519198'}, {'Id': '10517604'}, {'Id': '10515264'}, {'Id': '10510048'}, {'Id': '10507144'}, {'Id': '10505480'}, {'Id': '10487239'}, {'Id': '10473798'}, {'Id': '10445278'}, {'Id': '10425733'}, {'Id': '10378290'}, {'Id': '10372982'}, {'Id': '10368761'}, {'Id': '10364607'}, {'Id': '10327615'}, {'Id': '10227673'}, {'Id': '10223299'}, {'Id': '10212681'}, {'Id': '10206205'}, {'Id': '10198996'}, {'Id': '10197248'}, {'Id': '10194210'}, {'Id': '10188232'}, {'Id': '10188087'}, {'Id': '10101108'}, {'Id': '10098687'}, {'Id': '10073368'}, {'Id': '10065848'}, {'Id': '10065847'}, {'Id': '10065846'}, {'Id': '9972307'}, {'Id': '9920311'}, {'Id': '9885131'}, {'Id': '9882604'}, {'Id': '9856089'}, {'Id': '9828397'}, {'Id': '9828350'}, {'Id': '9828347'}, {'Id': '9827264'}, {'Id': '9820861'}, {'Id': '9810732'}, {'Id': '9809600'}, {'Id': '9807724'}, {'Id': '9804606'}, {'Id': '9802044'}, {'Id': '9799341'}, {'Id': '9795905'}, {'Id': '9787792'}, {'Id': '9787122'}, {'Id': '9784300'}, {'Id': '9773508'}, {'Id': '9773493'}, {'Id': '9773490'}, {'Id': '9767389'}, {'Id': '9754525'}, {'Id': '9751025'}, {'Id': '9747516'}, {'Id': '9732486'}, {'Id': '9731303'}, {'Id': '9720150'}, {'Id': '9719617'}, {'Id': '9718742'}, {'Id': '9706554'}, {'Id': '9703674'}, {'Id': '9693840'}, {'Id': '9691049'}, {'Id': '9683413'}, {'Id': '9682423'}, {'Id': '9682418'}, {'Id': '9682347'}, {'Id': '9679097'}, {'Id': '9678499'}, {'Id': '9673940'}, {'Id': '9650237'}, {'Id': '9639098'}, {'Id': '9634180'}, {'Id': '9633104'}, {'Id': '9628038'}, {'Id': '9618926'}, {'Id': '9611681'}, {'Id': '9608856'}, {'Id': '9590687'}, {'Id': '9590683'}, {'Id': '9577797'}, {'Id': '9568368'}, {'Id': '9566340'}, {'Id': '9563160'}, {'Id': '9559576'}, {'Id': '9542057'}, {'Id': '9542048'}, {'Id': '9503581'}, {'Id': '9491609'}, {'Id': '9476229'}, {'Id': '9472819'}, {'Id': '9472815'}, {'Id': '9470040'}, {'Id': '9465418'}, {'Id': '9444074'}, {'Id': '9437833'}, {'Id': '9421731'}, {'Id': '9416675'}, {'Id': '9414481'}, {'Id': '9407624'}, {'Id': '9401592'}, {'Id': '9394478'}, {'Id': '9381856'}, {'Id': '9373858'}, {'Id': '9373857'}, {'Id': '9353910'}, {'Id': '9353903'}, {'Id': '9345732'}, {'Id': '9329201'}, {'Id': '9308160'}, {'Id': '9297788'}, {'Id': '9297180'}, {'Id': '9296683'}, {'Id': '9289285'}, {'Id': '9278043'}, {'Id': '9255950'}, {'Id': '9249716'}, {'Id': '9249690'}, {'Id': '9249689'}, {'Id': '9249688'}, {'Id': '9249169'}, {'Id': '9237304'}, {'Id': '9231380'}, {'Id': '9215560'}, {'Id': '9193919'}, {'Id': '9192468'}, {'Id': '9173968'}, {'Id': '9172395'}, {'Id': '9172297'}, {'Id': '9159908'}, {'Id': '9151405'}, {'Id': '9147692'}, {'Id': '9134673'}, {'Id': '9131551'}, {'Id': '9120069'}, {'Id': '9114490'}, {'Id': '9092243'}, {'Id': '9091093'}, {'Id': '9080660'}, {'Id': '9076977'}, {'Id': '9027692'}, {'Id': '9027686'}, {'Id': '9026002'}, {'Id': '8993626'}, {'Id': '8987546'}, {'Id': '8933691'}, {'Id': '8928905'}, {'Id': '8928239'}, {'Id': '8899030'}, {'Id': '8897995'}, {'Id': '8880005'}, {'Id': '8870260'}, {'Id': '8865656'}, {'Id': '8854834'}, {'Id': '8847318'}, {'Id': '8827684'}, {'Id': '8817913'}, {'Id': '8817861'}, {'Id': '8814345'}, {'Id': '8799994'}, {'Id': '8799984'}, {'Id': '8761974'}, {'Id': '8759300'}, {'Id': '8735261'}, {'Id': '8685709'}, {'Id': '8685708'}, {'Id': '8685707'}, {'Id': '8685704'}, {'Id': '8685703'}, {'Id': '8680843'}, {'Id': '8661527'}, {'Id': '8660422'}, {'Id': '8653379'}, {'Id': '8644435'}, {'Id': '8620116'}, {'Id': '8617632'}, {'Id': '8604558'}, {'Id': '8592380'}, {'Id': '8592051'}, {'Id': '8588320'}, {'Id': '8588319'}, {'Id': '8588316'}, {'Id': '8587502'}, {'Id': '8583631'}, {'Id': '8579259'}, {'Id': '8575817'}, {'Id': '8571227'}, {'Id': '8567556'}, {'Id': '8564005'}, {'Id': '8560695'}, {'Id': '8557462'}, {'Id': '8529033'}, {'Id': '8520929'}, {'Id': '8506602'}, {'Id': '8475752'}, {'Id': '8474767'}, {'Id': '8468125'}, {'Id': '8466291'}, {'Id': '8464023'}, {'Id': '8460473'}, {'Id': '8459104'}, {'Id': '8457634'}, {'Id': '8449792'}, {'Id': '8445787'}, {'Id': '8445769'}, {'Id': '8445768'}, {'Id': '8440964'}, {'Id': '8420412'}, {'Id': '8411208'}, {'Id': '8410554'}, {'Id': '8408781'}, {'Id': '8394580'}, {'Id': '8384390'}, {'Id': '8365111'}, {'Id': '8365110'}, {'Id': '8355350'}, {'Id': '8355344'}, {'Id': '8351782'}, {'Id': '8347078'}, {'Id': '8345458'}, {'Id': '8343804'}, {'Id': '8343803'}, {'Id': '8308902'}, {'Id': '8305094'}, {'Id': '8279260'}, {'Id': '8277392'}, {'Id': '8272841'}, {'Id': '8272838'}, {'Id': '8270096'}, {'Id': '8268007'}, {'Id': '8254117'}, {'Id': '8245765'}, {'Id': '8239712'}, {'Id': '8237255'}, {'Id': '8236799'}, {'Id': '8236669'}, {'Id': '8227643'}, {'Id': '8215589'}, {'Id': '8182594'}, {'Id': '8160882'}, {'Id': '8104755'}, {'Id': '8101164'}, {'Id': '8101163'}, {'Id': '8097394'}, {'Id': '8092316'}, {'Id': '8073742'}, {'Id': '8073595'}, {'Id': '8071463'}, {'Id': '8070954'}, {'Id': '8064690'}, {'Id': '8061406'}, {'Id': '8056883'}, {'Id': '8053137'}, {'Id': '8052527'}, {'Id': '8039553'}, {'Id': '8019687'}, {'Id': '8017020'}, {'Id': '8009786'}, {'Id': '7990665'}, {'Id': '7983268'}, {'Id': '7981096'}, {'Id': '7977857'}, {'Id': '7973608'}, {'Id': '7942059'}, {'Id': '7931034'}, {'Id': '7899859'}, {'Id': '7886897'}, {'Id': '7881814'}, {'Id': '7876031'}, {'Id': '7855845'}, {'Id': '7844533'}, {'Id': '7828030'}, {'Id': '7826994'}, {'Id': '7819750'}, {'Id': '7817661'}, {'Id': '7816509'}, {'Id': '7810262'}, {'Id': '7810064'}, {'Id': '7808526'}, {'Id': '7794344'}, {'Id': '7740722'}, {'Id': '7738230'}, {'Id': '7737888'}, {'Id': '7737064'}, {'Id': '7719638'}, {'Id': '7717761'}, {'Id': '7714914'}, {'Id': '7682371'}, {'Id': '7666439'}, {'Id': '7664495'}, {'Id': '7661816'}, {'Id': '7638937'}, {'Id': '7628691'}, {'Id': '7615403'}, {'Id': '7608516'}, {'Id': '7608409'}, {'Id': '7601954'}, {'Id': '7601595'}, {'Id': '7584864'}, {'Id': '7584837'}, {'Id': '7571911'}, {'Id': '7567077'}, {'Id': '7535255'}, {'Id': '7505788'}, {'Id': '7490570'}, {'Id': '7481739'}, {'Id': '7475988'}, {'Id': '7468814'}, {'Id': '7452612'}, {'Id': '7434363'}, {'Id': '7407541'}, {'Id': '7380685'}, {'Id': '7372092'}, {'Id': '7371740'}, {'Id': '7364006'}, {'Id': '7349305'}, {'Id': '7348916'}, {'Id': '7341958'}, {'Id': '7340100'}, {'Id': '7332133'}, {'Id': '7328003'}, {'Id': '7328002'}, {'Id': '7310089'}, {'Id': '7253094'}, {'Id': '7242026'}, {'Id': '7228773'}, {'Id': '7225770'}, {'Id': '7217791'}, {'Id': '7209545'}, {'Id': '7207529'}, {'Id': '7204165'}, {'Id': '7196703'}, {'Id': '7188605'}, {'Id': '7180383'}, {'Id': '7153422'}, {'Id': '7144913'}, {'Id': '7129942'}, {'Id': '7101258'}, {'Id': '7101257'}, {'Id': '7101256'}, {'Id': '7101255'}, {'Id': '7097872'}, {'Id': '7097871'}, {'Id': '7081482'}, {'Id': '7081478'}, {'Id': '7063847'}, {'Id': '7058937'}, {'Id': '7058934'}, {'Id': '7035421'}, {'Id': '7030088'}, {'Id': '7014863'}, {'Id': '7011189'}, {'Id': '6950643'}, {'Id': '6948508'}, {'Id': '6901559'}, {'Id': '6893610'}, {'Id': '6887132'}, {'Id': '6880866'}, {'Id': '6866100'}, {'Id': '6831069'}, {'Id': '6828156'}, {'Id': '6808698'}, {'Id': '6796157'}, {'Id': '6791283'}, {'Id': '6778851'}, {'Id': '6741278'}, {'Id': '6729273'}, {'Id': '6723727'}, {'Id': '6670760'}, {'Id': '6643234'}, {'Id': '6638219'}, {'Id': '6636490'}, {'Id': '6636481'}, {'Id': '6624500'}, {'Id': '6527090'}, {'Id': '6523119'}, {'Id': '6517782'}, {'Id': '6512774'}, {'Id': '6512692'}, {'Id': '6484946'}, {'Id': '6471169'}, {'Id': '6441485'}, {'Id': '6441253'}, {'Id': '6437645'}, {'Id': '6410503'}, {'Id': '6364175'}, {'Id': '6315658'}, {'Id': '6267805'}, {'Id': '6185919'}, {'Id': '6168245'}, {'Id': '6151450'}, {'Id': '6125326'}, {'Id': '6114694'}, {'Id': '6096327'}, {'Id': '6090747'}, {'Id': '4803374'}, {'Id': '4460965'}, {'Id': '4454999'}, {'Id': '4452655'}, {'Id': '4451287'}, {'Id': '4451286'}, {'Id': '4451285'}, {'Id': '4451277'}, {'Id': '4448791'}, {'Id': '4448789'}, {'Id': '4448304'}, {'Id': '4448301'}, {'Id': '4443650'}, {'Id': '4443485'}, {'Id': '4426861'}, {'Id': '4426860'}, {'Id': '4422755'}, {'Id': '4416782'}, {'Id': '4216002'}, {'Id': '4156200'}, {'Id': '4073282'}, {'Id': '4062560'}, {'Id': '4057262'}, {'Id': '4051033'}, {'Id': '4023700'}, {'Id': '3996670'}, {'Id': '3984197'}, {'Id': '3980347'}, {'Id': '3828075'}, {'Id': '3826646'}, {'Id': '3811817'}, {'Id': '3796005'}, {'Id': '3788459'}, {'Id': '3785423'}, {'Id': '3781968'}, {'Id': '3758422'}, {'Id': '3757869'}, {'Id': '3757483'}, {'Id': '3751953'}, {'Id': '3740323'}, {'Id': '3735437'}, {'Id': '3735288'}, {'Id': '3728706'}, {'Id': '3723326'}, {'Id': '3709763'}, {'Id': '3682087'}, {'Id': '3679694'}, {'Id': '3668021'}, {'Id': '3661458'}, {'Id': '3654117'}, {'Id': '3618833'}, {'Id': '3594192'}, {'Id': '3589643'}, {'Id': '3570914'}, {'Id': '3536594'}, {'Id': '3532866'}, {'Id': '3511736'}, {'Id': '3505918'}, {'Id': '3471056'}, {'Id': '3463233'}, {'Id': '3427612'}, {'Id': '3425766'}, {'Id': '3424576'}, {'Id': '3419516'}, {'Id': '3419515'}, {'Id': '3413492'}, {'Id': '3412457'}, {'Id': '3412456'}, {'Id': '3409663'}, {'Id': '3406744'}, {'Id': '3405301'}, {'Id': '3397219'}, {'Id': '3373629'}, {'Id': '3248366'}, {'Id': '3239411'}, {'Id': '3231217'}, {'Id': '3228296'}, {'Id': '3220645'}, {'Id': '3218398'}, {'Id': '3209965'}, {'Id': '3206798'}, {'Id': '3206788'}, {'Id': '3201690'}, {'Id': '3201674'}, {'Id': '3201673'}, {'Id': '3201237'}, {'Id': '3195008'}, {'Id': '3195003'}, {'Id': '3195001'}, {'Id': '3191378'}, {'Id': '3188724'}, {'Id': '3185731'}, {'Id': '3185716'}, {'Id': '3179355'}, {'Id': '3176011'}, {'Id': '3176004'}, {'Id': '3150558'}, {'Id': '3136970'}, {'Id': '3103187'}, {'Id': '3096941'}, {'Id': '3029439'}, {'Id': '3005664'}, {'Id': '2922047'}, {'Id': '2919278'}, {'Id': '2918905'}, {'Id': '2917029'}, {'Id': '2909890'}, {'Id': '2896093'}, {'Id': '2892641'}, {'Id': '2877778'}, {'Id': '2867854'}, {'Id': '2866896'}, {'Id': '2866871'}, {'Id': '2839773'}, {'Id': '2833935'}, {'Id': '2833284'}, {'Id': '2832569'}, {'Id': '2810559'}, {'Id': '2810150'}, {'Id': '2800265'}, {'Id': '2800051'}, {'Id': '2769165'}, {'Id': '2764154'}, {'Id': '2761005'}, {'Id': '2760283'}, {'Id': '2756631'}, {'Id': '2756625'}, {'Id': '2750069'}, {'Id': '2748202'}, {'Id': '2739714'}, {'Id': '2735447'}, {'Id': '2725642'}, {'Id': '2723387'}, {'Id': '2716101'}, {'Id': '2713523'}, {'Id': '2706930'}, {'Id': '2704417'}, {'Id': '2694584'}, {'Id': '2678666'}, {'Id': '2678664'}, {'Id': '2669686'}, {'Id': '2653775'}, {'Id': '2652873'}, {'Id': '2648566'}, {'Id': '2629390'}, {'Id': '2621716'}, {'Id': '2609807'}, {'Id': '2609727'}, {'Id': '2609721'}, {'Id': '2605282'}, {'Id': '2596201'}, {'Id': '2595979'}, {'Id': '2595959'}, {'Id': '2558468'}, {'Id': '2558467'}, {'Id': '2552633'}, {'Id': '2546713'}, {'Id': '2534347'}, {'Id': '2510393'}, {'Id': '2402877'}, {'Id': '2402876'}, {'Id': '2382048'}, {'Id': '2375957'}, {'Id': '2368622'}, {'Id': '2365846'}, {'Id': '2364254'}, {'Id': '2344959'}, {'Id': '2336490'}, {'Id': '2334797'}, {'Id': '2321346'}, {'Id': '2309387'}, {'Id': '2288059'}, {'Id': '2268192'}, {'Id': '2267888'}, {'Id': '2264246'}, {'Id': '2256402'}, {'Id': '2250239'}, {'Id': '2246176'}, {'Id': '2240269'}, {'Id': '2228534'}, {'Id': '2221153'}, {'Id': '2205971'}, {'Id': '2192495'}, {'Id': '2191148'}, {'Id': '2169668'}, {'Id': '2167030'}, {'Id': '2166849'}, {'Id': '2141248'}, {'Id': '2132708'}, {'Id': '2131605'}, {'Id': '2110376'}, {'Id': '2107217'}, {'Id': '2097300'}, {'Id': '2097298'}, {'Id': '2089774'}, {'Id': '2082556'}, {'Id': '2073765'}, {'Id': '2069507'}, {'Id': '2067051'}, {'Id': '2053874'}, {'Id': '2045543'}, {'Id': '1996712'}, {'Id': '1995034'}, {'Id': '1949538'}, {'Id': '1947166'}, {'Id': '1940617'}, {'Id': '1917675'}, {'Id': '1916599'}, {'Id': '1914825'}, {'Id': '1898111'}, {'Id': '1877355'}, {'Id': '1869354'}, {'Id': '1858357'}, {'Id': '1845492'}, {'Id': '1816691'}, {'Id': '1807253'}, {'Id': '1803934'}, {'Id': '1803933'}, {'Id': '1792821'}, {'Id': '1789022'}, {'Id': '1789021'}, {'Id': '1785189'}, {'Id': '1769201'}, {'Id': '1759340'}, {'Id': '1750175'}, {'Id': '1720585'}, {'Id': '1706119'}, {'Id': '1698923'}, {'Id': '1698050'}, {'Id': '1687360'}, {'Id': '1685375'}, {'Id': '1659023'}, {'Id': '1644639'}, {'Id': '1641969'}, {'Id': '1634877'}, {'Id': '1621470'}, {'Id': '1621345'}, {'Id': '1612137'}, {'Id': '1609546'}, {'Id': '1602573'}, {'Id': '1595162'}, {'Id': '1594940'}, {'Id': '1594939'}, {'Id': '1594938'}, {'Id': '1594937'}, {'Id': '1594936'}, {'Id': '1594935'}, {'Id': '1594934'}, {'Id': '1594933'}, {'Id': '1594932'}, {'Id': '1594931'}, {'Id': '1594930'}, {'Id': '1594929'}, {'Id': '1594928'}, {'Id': '1594927'}, {'Id': '1593642'}, {'Id': '1588321'}, {'Id': '1588250'}, {'Id': '1581181'}, {'Id': '1580105'}, {'Id': '1562238'}, {'Id': '1557882'}, {'Id': '1548803'}, {'Id': '1548798'}, {'Id': '1512890'}, {'Id': '1512875'}, {'Id': '1504518'}, {'Id': '1491605'}, {'Id': '1481941'}, {'Id': '1481361'}, {'Id': '1432968'}, {'Id': '1415538'}, {'Id': '1413419'}, {'Id': '1399251'}, {'Id': '1360677'}, {'Id': '1359937'}, {'Id': '1339068'}, {'Id': '1318637'}, {'Id': '1291586'}, {'Id': '1258673'}, {'Id': '1253008'}, {'Id': '1236839'}, {'Id': '1213032'}, {'Id': '1204337'}, {'Id': '1191041'}, {'Id': '1189903'}, {'Id': '1185790'}, {'Id': '1184840'}, {'Id': '1180106'}, {'Id': '1176343'}, {'Id': '1175361'}, {'Id': '1175083'}, {'Id': '1167192'}, {'Id': '1167176'}, {'Id': '1162361'}, {'Id': '1138491'}, {'Id': '1137553'}, {'Id': '1134553'}, {'Id': '1127661'}, {'Id': '1127461'}, {'Id': '1125867'}, {'Id': '1122728'}, {'Id': '1114017'}, {'Id': '1113044'}, {'Id': '1111424'}, {'Id': '1111092'}, {'Id': '1106110'}, {'Id': '991248'}, {'Id': '991017'}, {'Id': '976571'}, {'Id': '964468'}, {'Id': '960608'}, {'Id': '957151'}, {'Id': '955390'}, {'Id': '953869'}, {'Id': '949663'}, {'Id': '945609'}, {'Id': '935697'}, {'Id': '925528'}, {'Id': '919937'}, {'Id': '908895'}, {'Id': '899380'}, {'Id': '887917'}, {'Id': '886302'}, {'Id': '884616'}, {'Id': '881386'}, {'Id': '881112'}, {'Id': '871172'}, {'Id': '860766'}, {'Id': '857710'}, {'Id': '856149'}, {'Id': '847832'}, {'Id': '844074'}, {'Id': '842266'}, {'Id': '837277'}, {'Id': '835725'}, {'Id': '833788'}, {'Id': '773630'}, {'Id': '751703'}, {'Id': '745244'}, {'Id': '745243'}, {'Id': '737599'}, {'Id': '730568'}, {'Id': '726922'}, {'Id': '709441'}, {'Id': '676085'}, {'Id': '666019'}, {'Id': '665787'}, {'Id': '655573'}, {'Id': '647130'}, {'Id': '608845'}, {'Id': '606347'}, {'Id': '575922'}, {'Id': '564691'}, {'Id': '549553'}, {'Id': '540272'}, {'Id': '527014'}, {'Id': '521374'}, {'Id': '519554'}, {'Id': '511722'}, {'Id': '441581'}, {'Id': '436448'}, {'Id': '433520'}, {'Id': '405933'}, {'Id': '402089'}, {'Id': '399322'}, {'Id': '387635'}, {'Id': '275688'}, {'Id': '234337'}, {'Id': '230170'}, {'Id': '227346'}, {'Id': '226508'}, {'Id': '218465'}, {'Id': '212196'}, {'Id': '163484'}, {'Id': '113564'}, {'Id': '111215'}, {'Id': '110197'}, {'Id': '42815'}, {'Id': '28560'}, {'Id': '15781'}, {'Id': '9243'}, {'Id': '4051'}, {'Id': '3329'}], 'DbTo': 'pubmed', 'LinkName': 'taxonomy_pubmed_majr'}, {'Link': [{'Id': '15961652'}, {'Id': '15947186'}, {'Id': '15755884'}, {'Id': '15709951'}, {'Id': '15702463'}, {'Id': '15599768'}, {'Id': '15593252'}, {'Id': '15584781'}, {'Id': '15488010'}, {'Id': '15325149'}, {'Id': '15325148'}, {'Id': '15325147'}, {'Id': '15325140'}, {'Id': '15242734'}, {'Id': '15233163'}, {'Id': '15143524'}, {'Id': '15081740'}, {'Id': '15074673'}, {'Id': '15049501'}, {'Id': '15012757'}, {'Id': '15000203'}, {'Id': '14985624'}, {'Id': '14972581'}, {'Id': '14746319'}, {'Id': '14717636'}, {'Id': '14653915'}, {'Id': '14650610'}, {'Id': '14650609'}, {'Id': '14582787'}, {'Id': '14572509'}, {'Id': '14560447'}, {'Id': '14560442'}, {'Id': '14555750'}, {'Id': '14535162'}, {'Id': '14526101'}, {'Id': '12948250'}, {'Id': '12905128'}, {'Id': '12822810'}, {'Id': '12758030'}, {'Id': '12749531'}, {'Id': '12738265'}, {'Id': '12735962'}, {'Id': '12697319'}, {'Id': '12682104'}, {'Id': '12650250'}, {'Id': '12547272'}, {'Id': '12535628'}, {'Id': '12484416'}, {'Id': '12469896'}, {'Id': '12463537'}, {'Id': '12462489'}, {'Id': '12416866'}, {'Id': '12414172'}, {'Id': '12408578'}, {'Id': '12396224'}, {'Id': '12381563'}, {'Id': '12380070'}, {'Id': '12297372'}, {'Id': '12238390'}, {'Id': '12201482'}, {'Id': '12146519'}, {'Id': '12132771'}, {'Id': '12099454'}, {'Id': '12062155'}, {'Id': '12003322'}, {'Id': '11921854'}, {'Id': '11897201'}, {'Id': '11837965'}, {'Id': '11827117'}, {'Id': '11807117'}, {'Id': '11773970'}, {'Id': '11695398'}, {'Id': '11678167'}, {'Id': '11673127'}, {'Id': '11665875'}, {'Id': '11579671'}, {'Id': '11575580'}, {'Id': '11572279'}, {'Id': '11571049'}, {'Id': '11481497'}, {'Id': '11441026'}, {'Id': '11440865'}, {'Id': '11436137'}, {'Id': '11393969'}, {'Id': '11349285'}, {'Id': '11348064'}, {'Id': '11329709'}, {'Id': '11329707'}, {'Id': '11318176'}, {'Id': '11302529'}, {'Id': '11299286'}, {'Id': '11287559'}, {'Id': '11264961'}, {'Id': '11223392'}, {'Id': '11223193'}, {'Id': '11217905'}, {'Id': '11202754'}, {'Id': '11202650'}, {'Id': '11189716'}, {'Id': '11153657'}, {'Id': '11130870'}, {'Id': '11126323'}, {'Id': '11082302'}, {'Id': '11009038'}, {'Id': '11002386'}, {'Id': '10989337'}, {'Id': '10954551'}, {'Id': '10924388'}, {'Id': '10907141'}, {'Id': '10887070'}, {'Id': '10838208'}, {'Id': '10819220'}, {'Id': '10736026'}, {'Id': '10723541'}, {'Id': '10706636'}, {'Id': '10685906'}, {'Id': '10682355'}, {'Id': '10655246'}, {'Id': '10618265'}, {'Id': '10598498'}, {'Id': '10575632'}, {'Id': '10568272'}, {'Id': '10564447'}, {'Id': '10549140'}, {'Id': '10505480'}, {'Id': '10499328'}, {'Id': '10462817'}, {'Id': '10399249'}, {'Id': '10380123'}, {'Id': '10356727'}, {'Id': '10335654'}, {'Id': '10223299'}, {'Id': '10212677'}, {'Id': '10207358'}, {'Id': '10194210'}, {'Id': '10093345'}, {'Id': '10093299'}, {'Id': '10065847'}, {'Id': '9972480'}, {'Id': '9930187'}, {'Id': '9882604'}, {'Id': '9828265'}, {'Id': '9820861'}, {'Id': '9813413'}, {'Id': '9799341'}, {'Id': '9784300'}, {'Id': '9778137'}, {'Id': '9765821'}, {'Id': '9705405'}, {'Id': '9682453'}, {'Id': '9682347'}, {'Id': '9673940'}, {'Id': '9665124'}, {'Id': '9633104'}, {'Id': '9620205'}, {'Id': '9618926'}, {'Id': '9597308'}, {'Id': '9597306'}, {'Id': '9568368'}, {'Id': '9563160'}, {'Id': '9526548'}, {'Id': '9502467'}, {'Id': '9491609'}, {'Id': '9477308'}, {'Id': '9476229'}, {'Id': '9472819'}, {'Id': '9450671'}, {'Id': '9390237'}, {'Id': '9381856'}, {'Id': '9273667'}, {'Id': '9264818'}, {'Id': '9237304'}, {'Id': '9234967'}, {'Id': '9226947'}, {'Id': '9173968'}, {'Id': '9165723'}, {'Id': '9120069'}, {'Id': '9115541'}, {'Id': '9105296'}, {'Id': '9079775'}, {'Id': '9026002'}, {'Id': '9018133'}, {'Id': '9018059'}, {'Id': '8996696'}, {'Id': '8987705'}, {'Id': '8956501'}, {'Id': '8933699'}, {'Id': '8933691'}, {'Id': '8928905'}, {'Id': '8900465'}, {'Id': '8870260'}, {'Id': '8837881'}, {'Id': '8835407'}, {'Id': '8754216'}, {'Id': '8748544'}, {'Id': '8721312'}, {'Id': '8714294'}, {'Id': '8685710'}, {'Id': '8660422'}, {'Id': '8614301'}, {'Id': '8593850'}, {'Id': '8588329'}, {'Id': '8588325'}, {'Id': '8576451'}, {'Id': '8558126'}, {'Id': '8528649'}, {'Id': '8511976'}, {'Id': '8457634'}, {'Id': '8432764'}, {'Id': '8395993'}, {'Id': '8376973'}, {'Id': '8347078'}, {'Id': '8346970'}, {'Id': '8345458'}, {'Id': '8330845'}, {'Id': '8308902'}, {'Id': '8272858'}, {'Id': '8258855'}, {'Id': '8254117'}, {'Id': '8236669'}, {'Id': '8220080'}, {'Id': '8192596'}, {'Id': '8165148'}, {'Id': '8101164'}, {'Id': '8073595'}, {'Id': '8064690'}, {'Id': '8039554'}, {'Id': '8028108'}, {'Id': '7973695'}, {'Id': '7948004'}, {'Id': '7931034'}, {'Id': '7922154'}, {'Id': '7905219'}, {'Id': '7897352'}, {'Id': '7886934'}, {'Id': '7882827'}, {'Id': '7877495'}, {'Id': '7864851'}, {'Id': '7794010'}, {'Id': '7738230'}, {'Id': '7710359'}, {'Id': '7691137'}, {'Id': '7664495'}, {'Id': '7628804'}, {'Id': '7588487'}, {'Id': '7567906'}, {'Id': '7562084'}, {'Id': '7535255'}, {'Id': '7518225'}, {'Id': '7372092'}, {'Id': '7365464'}, {'Id': '7248465'}, {'Id': '7195944'}, {'Id': '7190195'}, {'Id': '7146893'}, {'Id': '7109856'}, {'Id': '7014863'}, {'Id': '7005206'}, {'Id': '6994862'}, {'Id': '6988236'}, {'Id': '6965701'}, {'Id': '6896609'}, {'Id': '6857233'}, {'Id': '6803390'}, {'Id': '6794915'}, {'Id': '6784203'}, {'Id': '6777651'}, {'Id': '6729273'}, {'Id': '6685226'}, {'Id': '6618672'}, {'Id': '6609629'}, {'Id': '6571704'}, {'Id': '6527389'}, {'Id': '6527090'}, {'Id': '6420858'}, {'Id': '6377132'}, {'Id': '6302293'}, {'Id': '6279890'}, {'Id': '6251479'}, {'Id': '4619797'}, {'Id': '4609962'}, {'Id': '4609731'}, {'Id': '4460965'}, {'Id': '4451901'}, {'Id': '4440777'}, {'Id': '4416820'}, {'Id': '4214805'}, {'Id': '4141887'}, {'Id': '4139999'}, {'Id': '4080284'}, {'Id': '4054697'}, {'Id': '4053702'}, {'Id': '4023700'}, {'Id': '4011387'}, {'Id': '3945798'}, {'Id': '3914175'}, {'Id': '3895066'}, {'Id': '3820428'}, {'Id': '3814723'}, {'Id': '3796609'}, {'Id': '3758071'}, {'Id': '3748172'}, {'Id': '3740323'}, {'Id': '3728706'}, {'Id': '3724620'}, {'Id': '3709763'}, {'Id': '3679694'}, {'Id': '3661458'}, {'Id': '3619434'}, {'Id': '3577073'}, {'Id': '3511736'}, {'Id': '3505918'}, {'Id': '3381698'}, {'Id': '3233926'}, {'Id': '3209965'}, {'Id': '3005120'}, {'Id': '2866023'}, {'Id': '2810150'}, {'Id': '2800051'}, {'Id': '2770838'}, {'Id': '2712333'}, {'Id': '2678666'}, {'Id': '2609536'}, {'Id': '2424974'}, {'Id': '2404927'}, {'Id': '2402624'}, {'Id': '2396484'}, {'Id': '2368622'}, {'Id': '2277325'}, {'Id': '2246897'}, {'Id': '2238399'}, {'Id': '2174233'}, {'Id': '2107217'}, {'Id': '2097300'}, {'Id': '2091048'}, {'Id': '2081446'}, {'Id': '2069505'}, {'Id': '1996712'}, {'Id': '1969458'}, {'Id': '1948014'}, {'Id': '1947166'}, {'Id': '1917346'}, {'Id': '1866355'}, {'Id': '1845512'}, {'Id': '1830813'}, {'Id': '1792821'}, {'Id': '1765768'}, {'Id': '1723298'}, {'Id': '1707946'}, {'Id': '1704735'}, {'Id': '1702660'}, {'Id': '1698050'}, {'Id': '1685375'}, {'Id': '1668155'}, {'Id': '1612138'}, {'Id': '1611886'}, {'Id': '1604930'}, {'Id': '1573520'}, {'Id': '1562238'}, {'Id': '1562233'}, {'Id': '1417395'}, {'Id': '1360677'}, {'Id': '1277068'}, {'Id': '1225679'}, {'Id': '1185790'}, {'Id': '1167192'}, {'Id': '1122711'}, {'Id': '1103679'}, {'Id': '1097074'}, {'Id': '1083058'}, {'Id': '1033830'}, {'Id': '1015172'}, {'Id': '988671'}, {'Id': '977467'}, {'Id': '958725'}, {'Id': '955390'}, {'Id': '918664'}, {'Id': '881386'}, {'Id': '881314'}, {'Id': '862778'}, {'Id': '822779'}, {'Id': '810286'}, {'Id': '808440'}, {'Id': '808205'}, {'Id': '805744'}, {'Id': '788716'}, {'Id': '786969'}, {'Id': '738931'}, {'Id': '736804'}, {'Id': '726423'}, {'Id': '629463'}, {'Id': '582322'}, {'Id': '567698'}, {'Id': '560672'}, {'Id': '493928'}, {'Id': '463866'}, {'Id': '444738'}, {'Id': '444455'}, {'Id': '443394'}, {'Id': '433520'}, {'Id': '383539'}, {'Id': '375346'}, {'Id': '371084'}, {'Id': '318281'}, {'Id': '240581'}, {'Id': '238198'}, {'Id': '226508'}, {'Id': '221776'}, {'Id': '193467'}, {'Id': '189927'}, {'Id': '149176'}, {'Id': '110197'}, {'Id': '109135'}, {'Id': '38210'}, {'Id': '13923'}, {'Id': '4051'}], 'DbTo': 'pubmed', 'LinkName': 'taxonomy_pubmed_mesh'}], 'ERROR': [], 'LinkSetDbHistory': [], 'DbFrom': 'taxonomy', 'IdList': ['9709']}\n"
     ]
    }
   ],
   "source": [
    "print(search_results[0])"
   ]
  },
  {
   "cell_type": "markdown",
   "metadata": {},
   "source": [
    "## Useful Links and Documentation\n",
    "\n",
    "* [Bio.SearchIO Documentation](https://biopython.org/docs/latest/api/Bio.SearchIO.html)\n",
    "* [Bio.Entrez Documentation](https://biopython.org/docs/latest/api/Bio.Entrez.html)\n",
    "* [Entrez Help](https://www.ncbi.nlm.nih.gov/books/NBK3837/)\n",
    "* [Table of Entrez Databases and UIDs](https://www.ncbi.nlm.nih.gov/books/NBK25497/table/chapter2.T._entrez_unique_identifiers_ui/)\n",
    "* [Values of retmode and rettype for EFetch](https://www.ncbi.nlm.nih.gov/books/NBK25499/table/chapter4.T._valid_values_of__retmode_and/?report=objectonly)\n",
    "* [Table of ELinks](https://eutils.ncbi.nlm.nih.gov/entrez/query/static/entrezlinks.html)\n",
    "\n",
    "## Credits and Inspiration\n",
    "\n",
    "* [Biopython Tutorial and Cookbook](https://biopython.org/DIST/docs/tutorial/Tutorial.html)\n"
   ]
  },
  {
   "cell_type": "markdown",
   "metadata": {},
   "source": []
  }
 ],
 "metadata": {
  "kernelspec": {
   "display_name": "biopython",
   "language": "python",
   "name": "python3"
  },
  "language_info": {
   "codemirror_mode": {
    "name": "ipython",
    "version": 3
   },
   "file_extension": ".py",
   "mimetype": "text/x-python",
   "name": "python",
   "nbconvert_exporter": "python",
   "pygments_lexer": "ipython3",
   "version": "3.11.7"
  }
 },
 "nbformat": 4,
 "nbformat_minor": 2
}
