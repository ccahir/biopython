{
 "cells": [
  {
   "cell_type": "markdown",
   "id": "df8caa24",
   "metadata": {},
   "source": [
    "# Biopython 1: Introduction to Biopython"
   ]
  },
  {
   "cell_type": "markdown",
   "id": "e36cc1c3",
   "metadata": {},
   "source": [
    "## What is Biopython?"
   ]
  },
  {
   "cell_type": "markdown",
   "id": "4a74a5b1",
   "metadata": {},
   "source": [
    "Biopython is a set of Python dools developed for common tasks in computational molecular biology. Since it is open-source, its capabilities are constantly being developed and added to. Some common utilities are:\n",
    "* Parsing bioinformatics files into usable data structures\n",
    "* Conveniently iterating over multiple data files\n",
    "* Interfacing with online resources such as ENTREZ\n",
    "* Working with sequences to perform analyses\n",
    "\n",
    "In this workshop, I hope you will become familiar with Biopython and its basic utilities, and that you are able to then apply when you have learned to your own research. "
   ]
  },
  {
   "cell_type": "markdown",
   "id": "809179ca",
   "metadata": {},
   "source": [
    "## Example 1: Let's dive in!\n",
    "### A usage example from the official Biopython Tutorial"
   ]
  },
  {
   "cell_type": "code",
   "execution_count": null,
   "id": "8a16bb9d",
   "metadata": {},
   "outputs": [],
   "source": []
  }
 ],
 "metadata": {
  "kernelspec": {
   "display_name": "Python 3 (ipykernel)",
   "language": "python",
   "name": "python3"
  },
  "language_info": {
   "codemirror_mode": {
    "name": "ipython",
    "version": 3
   },
   "file_extension": ".py",
   "mimetype": "text/x-python",
   "name": "python",
   "nbconvert_exporter": "python",
   "pygments_lexer": "ipython3",
   "version": "3.10.9"
  }
 },
 "nbformat": 4,
 "nbformat_minor": 5
}
