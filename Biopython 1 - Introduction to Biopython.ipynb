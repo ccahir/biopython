{
 "cells": [
  {
   "cell_type": "markdown",
   "id": "d386b6af",
   "metadata": {},
   "source": [
    "# Biopython 1: Introduction to Biopython"
   ]
  },
  {
   "cell_type": "markdown",
   "id": "87c4d973",
   "metadata": {},
   "source": [
    "## What is Biopython?"
   ]
  },
  {
   "cell_type": "markdown",
   "id": "c335264b",
   "metadata": {},
   "source": [
    "Biopython is a set of Python dools developed for common tasks in computational molecular biology. Since it is open-source, its capabilities are constantly being developed and added to. Some common utilities are:\n",
    "* Parsing bioinformatics files into usable data structures\n",
    "* Conveniently iterating over multiple data files\n",
    "* Interfacing with online resources such as ENTREZ\n",
    "* Working with sequences to perform analyses\n",
    "In this workshop, I hope you will become familiar with Biopython and its basic utilities, and that you are able to then apply when you have learned to your own research. "
   ]
  },
  {
   "cell_type": "markdown",
   "id": "4f04fd15",
   "metadata": {},
   "source": [
    "## Example 1: Let's dive in!\n",
    "### A usage example from the official Biopython Tutorial"
   ]
  },
  {
   "cell_type": "code",
   "execution_count": null,
   "id": "11b60eb3",
   "metadata": {},
   "outputs": [],
   "source": []
  }
 ],
 "metadata": {
  "kernelspec": {
   "display_name": "Python 3 (ipykernel)",
   "language": "python",
   "name": "python3"
  },
  "language_info": {
   "codemirror_mode": {
    "name": "ipython",
    "version": 3
   },
   "file_extension": ".py",
   "mimetype": "text/x-python",
   "name": "python",
   "nbconvert_exporter": "python",
   "pygments_lexer": "ipython3",
   "version": "3.10.9"
  }
 },
 "nbformat": 4,
 "nbformat_minor": 5
}
